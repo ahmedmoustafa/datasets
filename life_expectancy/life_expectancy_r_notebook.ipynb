{
  "nbformat": 4,
  "nbformat_minor": 0,
  "metadata": {
    "colab": {
      "provenance": [],
      "authorship_tag": "ABX9TyOHEX9IdxFIlt0m6KKisBby",
      "include_colab_link": true
    },
    "kernelspec": {
      "name": "ir",
      "display_name": "R"
    },
    "language_info": {
      "name": "R"
    }
  },
  "cells": [
    {
      "cell_type": "markdown",
      "metadata": {
        "id": "view-in-github",
        "colab_type": "text"
      },
      "source": [
        "<a href=\"https://colab.research.google.com/github/ahmedmoustafa/datasets/blob/main/life_expectancy/life_expectancy_r_notebook.ipynb\" target=\"_parent\"><img src=\"https://colab.research.google.com/assets/colab-badge.svg\" alt=\"Open In Colab\"/></a>"
      ]
    },
    {
      "cell_type": "markdown",
      "source": [
        "# Life Expectancy"
      ],
      "metadata": {
        "id": "xBt-eJSTAd80"
      }
    },
    {
      "cell_type": "code",
      "execution_count": 1,
      "metadata": {
        "colab": {
          "base_uri": "https://localhost:8080/",
          "height": 427
        },
        "id": "ryynanlgAMmu",
        "outputId": "17ac5f6e-044d-4f2b-ed7d-d11a71d428d6"
      },
      "outputs": [
        {
          "output_type": "display_data",
          "data": {
            "text/html": [
              "<table class=\"dataframe\">\n",
              "<caption>A data.frame: 6 × 20</caption>\n",
              "<thead>\n",
              "\t<tr><th></th><th scope=col>Country</th><th scope=col>Region</th><th scope=col>Year</th><th scope=col>Infant_deaths</th><th scope=col>Under_five_deaths</th><th scope=col>Adult_mortality</th><th scope=col>Alcohol_consumption</th><th scope=col>Hepatitis_B</th><th scope=col>Measles</th><th scope=col>BMI</th><th scope=col>Polio</th><th scope=col>Diphtheria</th><th scope=col>Incidents_HIV</th><th scope=col>GDP_per_capita</th><th scope=col>Population_mln</th><th scope=col>Thinness_ten_nineteen_years</th><th scope=col>Thinness_five_nine_years</th><th scope=col>Schooling</th><th scope=col>Life_expectancy</th><th scope=col>Economy_status</th></tr>\n",
              "\t<tr><th></th><th scope=col>&lt;chr&gt;</th><th scope=col>&lt;chr&gt;</th><th scope=col>&lt;int&gt;</th><th scope=col>&lt;dbl&gt;</th><th scope=col>&lt;dbl&gt;</th><th scope=col>&lt;dbl&gt;</th><th scope=col>&lt;dbl&gt;</th><th scope=col>&lt;int&gt;</th><th scope=col>&lt;int&gt;</th><th scope=col>&lt;dbl&gt;</th><th scope=col>&lt;int&gt;</th><th scope=col>&lt;int&gt;</th><th scope=col>&lt;dbl&gt;</th><th scope=col>&lt;int&gt;</th><th scope=col>&lt;dbl&gt;</th><th scope=col>&lt;dbl&gt;</th><th scope=col>&lt;dbl&gt;</th><th scope=col>&lt;dbl&gt;</th><th scope=col>&lt;dbl&gt;</th><th scope=col>&lt;chr&gt;</th></tr>\n",
              "</thead>\n",
              "<tbody>\n",
              "\t<tr><th scope=row>1</th><td>Turkiye   </td><td>Middle East                  </td><td>2015</td><td>11.1</td><td>13.0</td><td>105.8240</td><td> 1.32</td><td>97</td><td>65</td><td>27.8</td><td>97</td><td>97</td><td>0.08</td><td>11006</td><td>  78.53</td><td> 4.9</td><td> 4.8</td><td> 7.8</td><td>76.5</td><td>Developing</td></tr>\n",
              "\t<tr><th scope=row>2</th><td>Spain     </td><td>European Union               </td><td>2015</td><td> 2.7</td><td> 3.3</td><td> 57.9025</td><td>10.35</td><td>97</td><td>94</td><td>26.0</td><td>97</td><td>97</td><td>0.09</td><td>25742</td><td>  46.44</td><td> 0.6</td><td> 0.5</td><td> 9.7</td><td>82.8</td><td>Developed </td></tr>\n",
              "\t<tr><th scope=row>3</th><td>India     </td><td>Asia                         </td><td>2007</td><td>51.5</td><td>67.9</td><td>201.0765</td><td> 1.57</td><td>60</td><td>35</td><td>21.2</td><td>67</td><td>64</td><td>0.13</td><td> 1076</td><td>1183.21</td><td>27.1</td><td>28.0</td><td> 5.0</td><td>65.4</td><td>Developing</td></tr>\n",
              "\t<tr><th scope=row>4</th><td>Guyana    </td><td>South America                </td><td>2006</td><td>32.8</td><td>40.5</td><td>222.1965</td><td> 5.68</td><td>93</td><td>74</td><td>25.3</td><td>92</td><td>93</td><td>0.79</td><td> 4146</td><td>   0.75</td><td> 5.7</td><td> 5.5</td><td> 7.9</td><td>67.0</td><td>Developing</td></tr>\n",
              "\t<tr><th scope=row>5</th><td>Israel    </td><td>Middle East                  </td><td>2012</td><td> 3.4</td><td> 4.3</td><td> 57.9510</td><td> 2.89</td><td>97</td><td>89</td><td>27.0</td><td>94</td><td>94</td><td>0.08</td><td>33995</td><td>   7.91</td><td> 1.2</td><td> 1.1</td><td>12.8</td><td>81.7</td><td>Developed </td></tr>\n",
              "\t<tr><th scope=row>6</th><td>Costa Rica</td><td>Central America and Caribbean</td><td>2006</td><td> 9.8</td><td>11.2</td><td> 95.2200</td><td> 4.19</td><td>88</td><td>86</td><td>26.4</td><td>89</td><td>89</td><td>0.16</td><td> 9110</td><td>   4.35</td><td> 2.0</td><td> 1.9</td><td> 7.9</td><td>78.2</td><td>Developing</td></tr>\n",
              "</tbody>\n",
              "</table>\n"
            ],
            "text/markdown": "\nA data.frame: 6 × 20\n\n| <!--/--> | Country &lt;chr&gt; | Region &lt;chr&gt; | Year &lt;int&gt; | Infant_deaths &lt;dbl&gt; | Under_five_deaths &lt;dbl&gt; | Adult_mortality &lt;dbl&gt; | Alcohol_consumption &lt;dbl&gt; | Hepatitis_B &lt;int&gt; | Measles &lt;int&gt; | BMI &lt;dbl&gt; | Polio &lt;int&gt; | Diphtheria &lt;int&gt; | Incidents_HIV &lt;dbl&gt; | GDP_per_capita &lt;int&gt; | Population_mln &lt;dbl&gt; | Thinness_ten_nineteen_years &lt;dbl&gt; | Thinness_five_nine_years &lt;dbl&gt; | Schooling &lt;dbl&gt; | Life_expectancy &lt;dbl&gt; | Economy_status &lt;chr&gt; |\n|---|---|---|---|---|---|---|---|---|---|---|---|---|---|---|---|---|---|---|---|---|\n| 1 | Turkiye    | Middle East                   | 2015 | 11.1 | 13.0 | 105.8240 |  1.32 | 97 | 65 | 27.8 | 97 | 97 | 0.08 | 11006 |   78.53 |  4.9 |  4.8 |  7.8 | 76.5 | Developing |\n| 2 | Spain      | European Union                | 2015 |  2.7 |  3.3 |  57.9025 | 10.35 | 97 | 94 | 26.0 | 97 | 97 | 0.09 | 25742 |   46.44 |  0.6 |  0.5 |  9.7 | 82.8 | Developed  |\n| 3 | India      | Asia                          | 2007 | 51.5 | 67.9 | 201.0765 |  1.57 | 60 | 35 | 21.2 | 67 | 64 | 0.13 |  1076 | 1183.21 | 27.1 | 28.0 |  5.0 | 65.4 | Developing |\n| 4 | Guyana     | South America                 | 2006 | 32.8 | 40.5 | 222.1965 |  5.68 | 93 | 74 | 25.3 | 92 | 93 | 0.79 |  4146 |    0.75 |  5.7 |  5.5 |  7.9 | 67.0 | Developing |\n| 5 | Israel     | Middle East                   | 2012 |  3.4 |  4.3 |  57.9510 |  2.89 | 97 | 89 | 27.0 | 94 | 94 | 0.08 | 33995 |    7.91 |  1.2 |  1.1 | 12.8 | 81.7 | Developed  |\n| 6 | Costa Rica | Central America and Caribbean | 2006 |  9.8 | 11.2 |  95.2200 |  4.19 | 88 | 86 | 26.4 | 89 | 89 | 0.16 |  9110 |    4.35 |  2.0 |  1.9 |  7.9 | 78.2 | Developing |\n\n",
            "text/latex": "A data.frame: 6 × 20\n\\begin{tabular}{r|llllllllllllllllllll}\n  & Country & Region & Year & Infant\\_deaths & Under\\_five\\_deaths & Adult\\_mortality & Alcohol\\_consumption & Hepatitis\\_B & Measles & BMI & Polio & Diphtheria & Incidents\\_HIV & GDP\\_per\\_capita & Population\\_mln & Thinness\\_ten\\_nineteen\\_years & Thinness\\_five\\_nine\\_years & Schooling & Life\\_expectancy & Economy\\_status\\\\\n  & <chr> & <chr> & <int> & <dbl> & <dbl> & <dbl> & <dbl> & <int> & <int> & <dbl> & <int> & <int> & <dbl> & <int> & <dbl> & <dbl> & <dbl> & <dbl> & <dbl> & <chr>\\\\\n\\hline\n\t1 & Turkiye    & Middle East                   & 2015 & 11.1 & 13.0 & 105.8240 &  1.32 & 97 & 65 & 27.8 & 97 & 97 & 0.08 & 11006 &   78.53 &  4.9 &  4.8 &  7.8 & 76.5 & Developing\\\\\n\t2 & Spain      & European Union                & 2015 &  2.7 &  3.3 &  57.9025 & 10.35 & 97 & 94 & 26.0 & 97 & 97 & 0.09 & 25742 &   46.44 &  0.6 &  0.5 &  9.7 & 82.8 & Developed \\\\\n\t3 & India      & Asia                          & 2007 & 51.5 & 67.9 & 201.0765 &  1.57 & 60 & 35 & 21.2 & 67 & 64 & 0.13 &  1076 & 1183.21 & 27.1 & 28.0 &  5.0 & 65.4 & Developing\\\\\n\t4 & Guyana     & South America                 & 2006 & 32.8 & 40.5 & 222.1965 &  5.68 & 93 & 74 & 25.3 & 92 & 93 & 0.79 &  4146 &    0.75 &  5.7 &  5.5 &  7.9 & 67.0 & Developing\\\\\n\t5 & Israel     & Middle East                   & 2012 &  3.4 &  4.3 &  57.9510 &  2.89 & 97 & 89 & 27.0 & 94 & 94 & 0.08 & 33995 &    7.91 &  1.2 &  1.1 & 12.8 & 81.7 & Developed \\\\\n\t6 & Costa Rica & Central America and Caribbean & 2006 &  9.8 & 11.2 &  95.2200 &  4.19 & 88 & 86 & 26.4 & 89 & 89 & 0.16 &  9110 &    4.35 &  2.0 &  1.9 &  7.9 & 78.2 & Developing\\\\\n\\end{tabular}\n",
            "text/plain": [
              "  Country    Region                        Year Infant_deaths Under_five_deaths\n",
              "1 Turkiye    Middle East                   2015 11.1          13.0             \n",
              "2 Spain      European Union                2015  2.7           3.3             \n",
              "3 India      Asia                          2007 51.5          67.9             \n",
              "4 Guyana     South America                 2006 32.8          40.5             \n",
              "5 Israel     Middle East                   2012  3.4           4.3             \n",
              "6 Costa Rica Central America and Caribbean 2006  9.8          11.2             \n",
              "  Adult_mortality Alcohol_consumption Hepatitis_B Measles BMI  Polio Diphtheria\n",
              "1 105.8240         1.32               97          65      27.8 97    97        \n",
              "2  57.9025        10.35               97          94      26.0 97    97        \n",
              "3 201.0765         1.57               60          35      21.2 67    64        \n",
              "4 222.1965         5.68               93          74      25.3 92    93        \n",
              "5  57.9510         2.89               97          89      27.0 94    94        \n",
              "6  95.2200         4.19               88          86      26.4 89    89        \n",
              "  Incidents_HIV GDP_per_capita Population_mln Thinness_ten_nineteen_years\n",
              "1 0.08          11006            78.53         4.9                       \n",
              "2 0.09          25742            46.44         0.6                       \n",
              "3 0.13           1076          1183.21        27.1                       \n",
              "4 0.79           4146             0.75         5.7                       \n",
              "5 0.08          33995             7.91         1.2                       \n",
              "6 0.16           9110             4.35         2.0                       \n",
              "  Thinness_five_nine_years Schooling Life_expectancy Economy_status\n",
              "1  4.8                      7.8      76.5            Developing    \n",
              "2  0.5                      9.7      82.8            Developed     \n",
              "3 28.0                      5.0      65.4            Developing    \n",
              "4  5.5                      7.9      67.0            Developing    \n",
              "5  1.1                     12.8      81.7            Developed     \n",
              "6  1.9                      7.9      78.2            Developing    "
            ]
          },
          "metadata": {}
        }
      ],
      "source": [
        "df = read.csv (\"https://raw.githubusercontent.com/ahmedmoustafa/datasets/main/life_expectancy/life_expectancy.csv\")\n",
        "head(df)"
      ]
    },
    {
      "cell_type": "code",
      "source": [
        "df$Region = factor(df$Region)\n",
        "df$Economy_status = factor(df$Economy_status)\n",
        "head(df)"
      ],
      "metadata": {
        "colab": {
          "base_uri": "https://localhost:8080/",
          "height": 427
        },
        "id": "In1fSqwKBZGM",
        "outputId": "d4795e40-4b0a-43c2-886d-e72462452cfa"
      },
      "execution_count": 2,
      "outputs": [
        {
          "output_type": "display_data",
          "data": {
            "text/html": [
              "<table class=\"dataframe\">\n",
              "<caption>A data.frame: 6 × 20</caption>\n",
              "<thead>\n",
              "\t<tr><th></th><th scope=col>Country</th><th scope=col>Region</th><th scope=col>Year</th><th scope=col>Infant_deaths</th><th scope=col>Under_five_deaths</th><th scope=col>Adult_mortality</th><th scope=col>Alcohol_consumption</th><th scope=col>Hepatitis_B</th><th scope=col>Measles</th><th scope=col>BMI</th><th scope=col>Polio</th><th scope=col>Diphtheria</th><th scope=col>Incidents_HIV</th><th scope=col>GDP_per_capita</th><th scope=col>Population_mln</th><th scope=col>Thinness_ten_nineteen_years</th><th scope=col>Thinness_five_nine_years</th><th scope=col>Schooling</th><th scope=col>Life_expectancy</th><th scope=col>Economy_status</th></tr>\n",
              "\t<tr><th></th><th scope=col>&lt;chr&gt;</th><th scope=col>&lt;fct&gt;</th><th scope=col>&lt;int&gt;</th><th scope=col>&lt;dbl&gt;</th><th scope=col>&lt;dbl&gt;</th><th scope=col>&lt;dbl&gt;</th><th scope=col>&lt;dbl&gt;</th><th scope=col>&lt;int&gt;</th><th scope=col>&lt;int&gt;</th><th scope=col>&lt;dbl&gt;</th><th scope=col>&lt;int&gt;</th><th scope=col>&lt;int&gt;</th><th scope=col>&lt;dbl&gt;</th><th scope=col>&lt;int&gt;</th><th scope=col>&lt;dbl&gt;</th><th scope=col>&lt;dbl&gt;</th><th scope=col>&lt;dbl&gt;</th><th scope=col>&lt;dbl&gt;</th><th scope=col>&lt;dbl&gt;</th><th scope=col>&lt;fct&gt;</th></tr>\n",
              "</thead>\n",
              "<tbody>\n",
              "\t<tr><th scope=row>1</th><td>Turkiye   </td><td>Middle East                  </td><td>2015</td><td>11.1</td><td>13.0</td><td>105.8240</td><td> 1.32</td><td>97</td><td>65</td><td>27.8</td><td>97</td><td>97</td><td>0.08</td><td>11006</td><td>  78.53</td><td> 4.9</td><td> 4.8</td><td> 7.8</td><td>76.5</td><td>Developing</td></tr>\n",
              "\t<tr><th scope=row>2</th><td>Spain     </td><td>European Union               </td><td>2015</td><td> 2.7</td><td> 3.3</td><td> 57.9025</td><td>10.35</td><td>97</td><td>94</td><td>26.0</td><td>97</td><td>97</td><td>0.09</td><td>25742</td><td>  46.44</td><td> 0.6</td><td> 0.5</td><td> 9.7</td><td>82.8</td><td>Developed </td></tr>\n",
              "\t<tr><th scope=row>3</th><td>India     </td><td>Asia                         </td><td>2007</td><td>51.5</td><td>67.9</td><td>201.0765</td><td> 1.57</td><td>60</td><td>35</td><td>21.2</td><td>67</td><td>64</td><td>0.13</td><td> 1076</td><td>1183.21</td><td>27.1</td><td>28.0</td><td> 5.0</td><td>65.4</td><td>Developing</td></tr>\n",
              "\t<tr><th scope=row>4</th><td>Guyana    </td><td>South America                </td><td>2006</td><td>32.8</td><td>40.5</td><td>222.1965</td><td> 5.68</td><td>93</td><td>74</td><td>25.3</td><td>92</td><td>93</td><td>0.79</td><td> 4146</td><td>   0.75</td><td> 5.7</td><td> 5.5</td><td> 7.9</td><td>67.0</td><td>Developing</td></tr>\n",
              "\t<tr><th scope=row>5</th><td>Israel    </td><td>Middle East                  </td><td>2012</td><td> 3.4</td><td> 4.3</td><td> 57.9510</td><td> 2.89</td><td>97</td><td>89</td><td>27.0</td><td>94</td><td>94</td><td>0.08</td><td>33995</td><td>   7.91</td><td> 1.2</td><td> 1.1</td><td>12.8</td><td>81.7</td><td>Developed </td></tr>\n",
              "\t<tr><th scope=row>6</th><td>Costa Rica</td><td>Central America and Caribbean</td><td>2006</td><td> 9.8</td><td>11.2</td><td> 95.2200</td><td> 4.19</td><td>88</td><td>86</td><td>26.4</td><td>89</td><td>89</td><td>0.16</td><td> 9110</td><td>   4.35</td><td> 2.0</td><td> 1.9</td><td> 7.9</td><td>78.2</td><td>Developing</td></tr>\n",
              "</tbody>\n",
              "</table>\n"
            ],
            "text/markdown": "\nA data.frame: 6 × 20\n\n| <!--/--> | Country &lt;chr&gt; | Region &lt;fct&gt; | Year &lt;int&gt; | Infant_deaths &lt;dbl&gt; | Under_five_deaths &lt;dbl&gt; | Adult_mortality &lt;dbl&gt; | Alcohol_consumption &lt;dbl&gt; | Hepatitis_B &lt;int&gt; | Measles &lt;int&gt; | BMI &lt;dbl&gt; | Polio &lt;int&gt; | Diphtheria &lt;int&gt; | Incidents_HIV &lt;dbl&gt; | GDP_per_capita &lt;int&gt; | Population_mln &lt;dbl&gt; | Thinness_ten_nineteen_years &lt;dbl&gt; | Thinness_five_nine_years &lt;dbl&gt; | Schooling &lt;dbl&gt; | Life_expectancy &lt;dbl&gt; | Economy_status &lt;fct&gt; |\n|---|---|---|---|---|---|---|---|---|---|---|---|---|---|---|---|---|---|---|---|---|\n| 1 | Turkiye    | Middle East                   | 2015 | 11.1 | 13.0 | 105.8240 |  1.32 | 97 | 65 | 27.8 | 97 | 97 | 0.08 | 11006 |   78.53 |  4.9 |  4.8 |  7.8 | 76.5 | Developing |\n| 2 | Spain      | European Union                | 2015 |  2.7 |  3.3 |  57.9025 | 10.35 | 97 | 94 | 26.0 | 97 | 97 | 0.09 | 25742 |   46.44 |  0.6 |  0.5 |  9.7 | 82.8 | Developed  |\n| 3 | India      | Asia                          | 2007 | 51.5 | 67.9 | 201.0765 |  1.57 | 60 | 35 | 21.2 | 67 | 64 | 0.13 |  1076 | 1183.21 | 27.1 | 28.0 |  5.0 | 65.4 | Developing |\n| 4 | Guyana     | South America                 | 2006 | 32.8 | 40.5 | 222.1965 |  5.68 | 93 | 74 | 25.3 | 92 | 93 | 0.79 |  4146 |    0.75 |  5.7 |  5.5 |  7.9 | 67.0 | Developing |\n| 5 | Israel     | Middle East                   | 2012 |  3.4 |  4.3 |  57.9510 |  2.89 | 97 | 89 | 27.0 | 94 | 94 | 0.08 | 33995 |    7.91 |  1.2 |  1.1 | 12.8 | 81.7 | Developed  |\n| 6 | Costa Rica | Central America and Caribbean | 2006 |  9.8 | 11.2 |  95.2200 |  4.19 | 88 | 86 | 26.4 | 89 | 89 | 0.16 |  9110 |    4.35 |  2.0 |  1.9 |  7.9 | 78.2 | Developing |\n\n",
            "text/latex": "A data.frame: 6 × 20\n\\begin{tabular}{r|llllllllllllllllllll}\n  & Country & Region & Year & Infant\\_deaths & Under\\_five\\_deaths & Adult\\_mortality & Alcohol\\_consumption & Hepatitis\\_B & Measles & BMI & Polio & Diphtheria & Incidents\\_HIV & GDP\\_per\\_capita & Population\\_mln & Thinness\\_ten\\_nineteen\\_years & Thinness\\_five\\_nine\\_years & Schooling & Life\\_expectancy & Economy\\_status\\\\\n  & <chr> & <fct> & <int> & <dbl> & <dbl> & <dbl> & <dbl> & <int> & <int> & <dbl> & <int> & <int> & <dbl> & <int> & <dbl> & <dbl> & <dbl> & <dbl> & <dbl> & <fct>\\\\\n\\hline\n\t1 & Turkiye    & Middle East                   & 2015 & 11.1 & 13.0 & 105.8240 &  1.32 & 97 & 65 & 27.8 & 97 & 97 & 0.08 & 11006 &   78.53 &  4.9 &  4.8 &  7.8 & 76.5 & Developing\\\\\n\t2 & Spain      & European Union                & 2015 &  2.7 &  3.3 &  57.9025 & 10.35 & 97 & 94 & 26.0 & 97 & 97 & 0.09 & 25742 &   46.44 &  0.6 &  0.5 &  9.7 & 82.8 & Developed \\\\\n\t3 & India      & Asia                          & 2007 & 51.5 & 67.9 & 201.0765 &  1.57 & 60 & 35 & 21.2 & 67 & 64 & 0.13 &  1076 & 1183.21 & 27.1 & 28.0 &  5.0 & 65.4 & Developing\\\\\n\t4 & Guyana     & South America                 & 2006 & 32.8 & 40.5 & 222.1965 &  5.68 & 93 & 74 & 25.3 & 92 & 93 & 0.79 &  4146 &    0.75 &  5.7 &  5.5 &  7.9 & 67.0 & Developing\\\\\n\t5 & Israel     & Middle East                   & 2012 &  3.4 &  4.3 &  57.9510 &  2.89 & 97 & 89 & 27.0 & 94 & 94 & 0.08 & 33995 &    7.91 &  1.2 &  1.1 & 12.8 & 81.7 & Developed \\\\\n\t6 & Costa Rica & Central America and Caribbean & 2006 &  9.8 & 11.2 &  95.2200 &  4.19 & 88 & 86 & 26.4 & 89 & 89 & 0.16 &  9110 &    4.35 &  2.0 &  1.9 &  7.9 & 78.2 & Developing\\\\\n\\end{tabular}\n",
            "text/plain": [
              "  Country    Region                        Year Infant_deaths Under_five_deaths\n",
              "1 Turkiye    Middle East                   2015 11.1          13.0             \n",
              "2 Spain      European Union                2015  2.7           3.3             \n",
              "3 India      Asia                          2007 51.5          67.9             \n",
              "4 Guyana     South America                 2006 32.8          40.5             \n",
              "5 Israel     Middle East                   2012  3.4           4.3             \n",
              "6 Costa Rica Central America and Caribbean 2006  9.8          11.2             \n",
              "  Adult_mortality Alcohol_consumption Hepatitis_B Measles BMI  Polio Diphtheria\n",
              "1 105.8240         1.32               97          65      27.8 97    97        \n",
              "2  57.9025        10.35               97          94      26.0 97    97        \n",
              "3 201.0765         1.57               60          35      21.2 67    64        \n",
              "4 222.1965         5.68               93          74      25.3 92    93        \n",
              "5  57.9510         2.89               97          89      27.0 94    94        \n",
              "6  95.2200         4.19               88          86      26.4 89    89        \n",
              "  Incidents_HIV GDP_per_capita Population_mln Thinness_ten_nineteen_years\n",
              "1 0.08          11006            78.53         4.9                       \n",
              "2 0.09          25742            46.44         0.6                       \n",
              "3 0.13           1076          1183.21        27.1                       \n",
              "4 0.79           4146             0.75         5.7                       \n",
              "5 0.08          33995             7.91         1.2                       \n",
              "6 0.16           9110             4.35         2.0                       \n",
              "  Thinness_five_nine_years Schooling Life_expectancy Economy_status\n",
              "1  4.8                      7.8      76.5            Developing    \n",
              "2  0.5                      9.7      82.8            Developed     \n",
              "3 28.0                      5.0      65.4            Developing    \n",
              "4  5.5                      7.9      67.0            Developing    \n",
              "5  1.1                     12.8      81.7            Developed     \n",
              "6  1.9                      7.9      78.2            Developing    "
            ]
          },
          "metadata": {}
        }
      ]
    },
    {
      "cell_type": "code",
      "source": [
        "summary(df)"
      ],
      "metadata": {
        "colab": {
          "base_uri": "https://localhost:8080/",
          "height": 868
        },
        "id": "MwZA9n0wCIfJ",
        "outputId": "8bad2e9c-d502-45ac-c479-448ca5e2687e"
      },
      "execution_count": 3,
      "outputs": [
        {
          "output_type": "display_data",
          "data": {
            "text/plain": [
              "   Country                                    Region         Year     \n",
              " Length:2864        Africa                       :816   Min.   :2000  \n",
              " Class :character   Asia                         :432   1st Qu.:2004  \n",
              " Mode  :character   European Union               :432   Median :2008  \n",
              "                    Central America and Caribbean:304   Mean   :2008  \n",
              "                    Rest of Europe               :240   3rd Qu.:2011  \n",
              "                    Middle East                  :224   Max.   :2015  \n",
              "                    (Other)                      :416                 \n",
              " Infant_deaths    Under_five_deaths Adult_mortality  Alcohol_consumption\n",
              " Min.   :  1.80   Min.   :  2.300   Min.   : 49.38   Min.   : 0.000     \n",
              " 1st Qu.:  8.10   1st Qu.:  9.675   1st Qu.:106.91   1st Qu.: 1.200     \n",
              " Median : 19.60   Median : 23.100   Median :163.84   Median : 4.020     \n",
              " Mean   : 30.36   Mean   : 42.938   Mean   :192.25   Mean   : 4.821     \n",
              " 3rd Qu.: 47.35   3rd Qu.: 66.000   3rd Qu.:246.79   3rd Qu.: 7.777     \n",
              " Max.   :138.10   Max.   :224.900   Max.   :719.36   Max.   :17.870     \n",
              "                                                                        \n",
              "  Hepatitis_B       Measles           BMI            Polio        Diphtheria   \n",
              " Min.   :12.00   Min.   :10.00   Min.   :19.80   Min.   : 8.0   Min.   :16.00  \n",
              " 1st Qu.:78.00   1st Qu.:64.00   1st Qu.:23.20   1st Qu.:81.0   1st Qu.:81.00  \n",
              " Median :89.00   Median :83.00   Median :25.50   Median :93.0   Median :93.00  \n",
              " Mean   :84.29   Mean   :77.34   Mean   :25.03   Mean   :86.5   Mean   :86.27  \n",
              " 3rd Qu.:96.00   3rd Qu.:93.00   3rd Qu.:26.40   3rd Qu.:97.0   3rd Qu.:97.00  \n",
              " Max.   :99.00   Max.   :99.00   Max.   :32.10   Max.   :99.0   Max.   :99.00  \n",
              "                                                                               \n",
              " Incidents_HIV     GDP_per_capita   Population_mln    \n",
              " Min.   : 0.0100   Min.   :   148   Min.   :   0.080  \n",
              " 1st Qu.: 0.0800   1st Qu.:  1416   1st Qu.:   2.098  \n",
              " Median : 0.1500   Median :  4217   Median :   7.850  \n",
              " Mean   : 0.8943   Mean   : 11541   Mean   :  36.676  \n",
              " 3rd Qu.: 0.4600   3rd Qu.: 12557   3rd Qu.:  23.688  \n",
              " Max.   :21.6800   Max.   :112418   Max.   :1379.860  \n",
              "                                                      \n",
              " Thinness_ten_nineteen_years Thinness_five_nine_years   Schooling     \n",
              " Min.   : 0.100              Min.   : 0.1             Min.   : 1.100  \n",
              " 1st Qu.: 1.600              1st Qu.: 1.6             1st Qu.: 5.100  \n",
              " Median : 3.300              Median : 3.4             Median : 7.800  \n",
              " Mean   : 4.866              Mean   : 4.9             Mean   : 7.632  \n",
              " 3rd Qu.: 7.200              3rd Qu.: 7.3             3rd Qu.:10.300  \n",
              " Max.   :27.700              Max.   :28.6             Max.   :14.100  \n",
              "                                                                      \n",
              " Life_expectancy    Economy_status\n",
              " Min.   :39.40   Developed : 592  \n",
              " 1st Qu.:62.70   Developing:2272  \n",
              " Median :71.40                    \n",
              " Mean   :68.86                    \n",
              " 3rd Qu.:75.40                    \n",
              " Max.   :83.80                    \n",
              "                                  "
            ]
          },
          "metadata": {}
        }
      ]
    },
    {
      "cell_type": "code",
      "source": [],
      "metadata": {
        "id": "oINk9-m2CKD_"
      },
      "execution_count": 4,
      "outputs": []
    }
  ]
}