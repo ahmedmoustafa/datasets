{
  "nbformat": 4,
  "nbformat_minor": 0,
  "metadata": {
    "colab": {
      "provenance": [],
      "authorship_tag": "ABX9TyNaDKws/eDZddldHVq0c8fX",
      "include_colab_link": true
    },
    "kernelspec": {
      "name": "ir",
      "display_name": "R"
    },
    "language_info": {
      "name": "R"
    }
  },
  "cells": [
    {
      "cell_type": "markdown",
      "metadata": {
        "id": "view-in-github",
        "colab_type": "text"
      },
      "source": [
        "<a href=\"https://colab.research.google.com/github/ahmedmoustafa/datasets/blob/main/obesity/obesity_r_notebook.ipynb\" target=\"_parent\"><img src=\"https://colab.research.google.com/assets/colab-badge.svg\" alt=\"Open In Colab\"/></a>"
      ]
    },
    {
      "cell_type": "markdown",
      "source": [
        "# The Obesity Dataset"
      ],
      "metadata": {
        "id": "lsppaziQtDBm"
      }
    },
    {
      "cell_type": "code",
      "source": [
        "df = read.csv (\"https://raw.githubusercontent.com/ahmedmoustafa/datasets/main/obesity/obesity.csv\", stringsAsFactors = TRUE)\n",
        "head(df)"
      ],
      "metadata": {
        "colab": {
          "base_uri": "https://localhost:8080/",
          "height": 286
        },
        "id": "1FD33aqcsERO",
        "outputId": "32520ed1-50fc-4b21-ea70-b6c2338ad508"
      },
      "execution_count": 1,
      "outputs": [
        {
          "output_type": "display_data",
          "data": {
            "text/html": [
              "<table class=\"dataframe\">\n",
              "<caption>A data.frame: 6 × 17</caption>\n",
              "<thead>\n",
              "\t<tr><th></th><th scope=col>Gender</th><th scope=col>Age</th><th scope=col>Height</th><th scope=col>Weight</th><th scope=col>family_history_with_overweight</th><th scope=col>FAVC</th><th scope=col>FCVC</th><th scope=col>NCP</th><th scope=col>CAEC</th><th scope=col>SMOKE</th><th scope=col>CH2O</th><th scope=col>SCC</th><th scope=col>FAF</th><th scope=col>TUE</th><th scope=col>CALC</th><th scope=col>MTRANS</th><th scope=col>NObeyesdad</th></tr>\n",
              "\t<tr><th></th><th scope=col>&lt;fct&gt;</th><th scope=col>&lt;dbl&gt;</th><th scope=col>&lt;dbl&gt;</th><th scope=col>&lt;dbl&gt;</th><th scope=col>&lt;fct&gt;</th><th scope=col>&lt;fct&gt;</th><th scope=col>&lt;dbl&gt;</th><th scope=col>&lt;dbl&gt;</th><th scope=col>&lt;fct&gt;</th><th scope=col>&lt;fct&gt;</th><th scope=col>&lt;dbl&gt;</th><th scope=col>&lt;fct&gt;</th><th scope=col>&lt;dbl&gt;</th><th scope=col>&lt;dbl&gt;</th><th scope=col>&lt;fct&gt;</th><th scope=col>&lt;fct&gt;</th><th scope=col>&lt;fct&gt;</th></tr>\n",
              "</thead>\n",
              "<tbody>\n",
              "\t<tr><th scope=row>1</th><td>Female</td><td>21</td><td>1.62</td><td>64.0</td><td>yes</td><td>no </td><td>2</td><td>3</td><td>Sometimes</td><td>no </td><td>2</td><td>no </td><td>0</td><td>1</td><td>no        </td><td>Public_Transportation</td><td>Normal_Weight      </td></tr>\n",
              "\t<tr><th scope=row>2</th><td>Female</td><td>21</td><td>1.52</td><td>56.0</td><td>yes</td><td>no </td><td>3</td><td>3</td><td>Sometimes</td><td>yes</td><td>3</td><td>yes</td><td>3</td><td>0</td><td>Sometimes </td><td>Public_Transportation</td><td>Normal_Weight      </td></tr>\n",
              "\t<tr><th scope=row>3</th><td>Male  </td><td>23</td><td>1.80</td><td>77.0</td><td>yes</td><td>no </td><td>2</td><td>3</td><td>Sometimes</td><td>no </td><td>2</td><td>no </td><td>2</td><td>1</td><td>Frequently</td><td>Public_Transportation</td><td>Normal_Weight      </td></tr>\n",
              "\t<tr><th scope=row>4</th><td>Male  </td><td>27</td><td>1.80</td><td>87.0</td><td>no </td><td>no </td><td>3</td><td>3</td><td>Sometimes</td><td>no </td><td>2</td><td>no </td><td>2</td><td>0</td><td>Frequently</td><td>Walking              </td><td>Overweight_Level_I </td></tr>\n",
              "\t<tr><th scope=row>5</th><td>Male  </td><td>22</td><td>1.78</td><td>89.8</td><td>no </td><td>no </td><td>2</td><td>1</td><td>Sometimes</td><td>no </td><td>2</td><td>no </td><td>0</td><td>0</td><td>Sometimes </td><td>Public_Transportation</td><td>Overweight_Level_II</td></tr>\n",
              "\t<tr><th scope=row>6</th><td>Male  </td><td>29</td><td>1.62</td><td>53.0</td><td>no </td><td>yes</td><td>2</td><td>3</td><td>Sometimes</td><td>no </td><td>2</td><td>no </td><td>0</td><td>0</td><td>Sometimes </td><td>Automobile           </td><td>Normal_Weight      </td></tr>\n",
              "</tbody>\n",
              "</table>\n"
            ],
            "text/markdown": "\nA data.frame: 6 × 17\n\n| <!--/--> | Gender &lt;fct&gt; | Age &lt;dbl&gt; | Height &lt;dbl&gt; | Weight &lt;dbl&gt; | family_history_with_overweight &lt;fct&gt; | FAVC &lt;fct&gt; | FCVC &lt;dbl&gt; | NCP &lt;dbl&gt; | CAEC &lt;fct&gt; | SMOKE &lt;fct&gt; | CH2O &lt;dbl&gt; | SCC &lt;fct&gt; | FAF &lt;dbl&gt; | TUE &lt;dbl&gt; | CALC &lt;fct&gt; | MTRANS &lt;fct&gt; | NObeyesdad &lt;fct&gt; |\n|---|---|---|---|---|---|---|---|---|---|---|---|---|---|---|---|---|---|\n| 1 | Female | 21 | 1.62 | 64.0 | yes | no  | 2 | 3 | Sometimes | no  | 2 | no  | 0 | 1 | no         | Public_Transportation | Normal_Weight       |\n| 2 | Female | 21 | 1.52 | 56.0 | yes | no  | 3 | 3 | Sometimes | yes | 3 | yes | 3 | 0 | Sometimes  | Public_Transportation | Normal_Weight       |\n| 3 | Male   | 23 | 1.80 | 77.0 | yes | no  | 2 | 3 | Sometimes | no  | 2 | no  | 2 | 1 | Frequently | Public_Transportation | Normal_Weight       |\n| 4 | Male   | 27 | 1.80 | 87.0 | no  | no  | 3 | 3 | Sometimes | no  | 2 | no  | 2 | 0 | Frequently | Walking               | Overweight_Level_I  |\n| 5 | Male   | 22 | 1.78 | 89.8 | no  | no  | 2 | 1 | Sometimes | no  | 2 | no  | 0 | 0 | Sometimes  | Public_Transportation | Overweight_Level_II |\n| 6 | Male   | 29 | 1.62 | 53.0 | no  | yes | 2 | 3 | Sometimes | no  | 2 | no  | 0 | 0 | Sometimes  | Automobile            | Normal_Weight       |\n\n",
            "text/latex": "A data.frame: 6 × 17\n\\begin{tabular}{r|lllllllllllllllll}\n  & Gender & Age & Height & Weight & family\\_history\\_with\\_overweight & FAVC & FCVC & NCP & CAEC & SMOKE & CH2O & SCC & FAF & TUE & CALC & MTRANS & NObeyesdad\\\\\n  & <fct> & <dbl> & <dbl> & <dbl> & <fct> & <fct> & <dbl> & <dbl> & <fct> & <fct> & <dbl> & <fct> & <dbl> & <dbl> & <fct> & <fct> & <fct>\\\\\n\\hline\n\t1 & Female & 21 & 1.62 & 64.0 & yes & no  & 2 & 3 & Sometimes & no  & 2 & no  & 0 & 1 & no         & Public\\_Transportation & Normal\\_Weight      \\\\\n\t2 & Female & 21 & 1.52 & 56.0 & yes & no  & 3 & 3 & Sometimes & yes & 3 & yes & 3 & 0 & Sometimes  & Public\\_Transportation & Normal\\_Weight      \\\\\n\t3 & Male   & 23 & 1.80 & 77.0 & yes & no  & 2 & 3 & Sometimes & no  & 2 & no  & 2 & 1 & Frequently & Public\\_Transportation & Normal\\_Weight      \\\\\n\t4 & Male   & 27 & 1.80 & 87.0 & no  & no  & 3 & 3 & Sometimes & no  & 2 & no  & 2 & 0 & Frequently & Walking               & Overweight\\_Level\\_I \\\\\n\t5 & Male   & 22 & 1.78 & 89.8 & no  & no  & 2 & 1 & Sometimes & no  & 2 & no  & 0 & 0 & Sometimes  & Public\\_Transportation & Overweight\\_Level\\_II\\\\\n\t6 & Male   & 29 & 1.62 & 53.0 & no  & yes & 2 & 3 & Sometimes & no  & 2 & no  & 0 & 0 & Sometimes  & Automobile            & Normal\\_Weight      \\\\\n\\end{tabular}\n",
            "text/plain": [
              "  Gender Age Height Weight family_history_with_overweight FAVC FCVC NCP\n",
              "1 Female 21  1.62   64.0   yes                            no   2    3  \n",
              "2 Female 21  1.52   56.0   yes                            no   3    3  \n",
              "3 Male   23  1.80   77.0   yes                            no   2    3  \n",
              "4 Male   27  1.80   87.0   no                             no   3    3  \n",
              "5 Male   22  1.78   89.8   no                             no   2    1  \n",
              "6 Male   29  1.62   53.0   no                             yes  2    3  \n",
              "  CAEC      SMOKE CH2O SCC FAF TUE CALC       MTRANS               \n",
              "1 Sometimes no    2    no  0   1   no         Public_Transportation\n",
              "2 Sometimes yes   3    yes 3   0   Sometimes  Public_Transportation\n",
              "3 Sometimes no    2    no  2   1   Frequently Public_Transportation\n",
              "4 Sometimes no    2    no  2   0   Frequently Walking              \n",
              "5 Sometimes no    2    no  0   0   Sometimes  Public_Transportation\n",
              "6 Sometimes no    2    no  0   0   Sometimes  Automobile           \n",
              "  NObeyesdad         \n",
              "1 Normal_Weight      \n",
              "2 Normal_Weight      \n",
              "3 Normal_Weight      \n",
              "4 Overweight_Level_I \n",
              "5 Overweight_Level_II\n",
              "6 Normal_Weight      "
            ]
          },
          "metadata": {}
        }
      ]
    },
    {
      "cell_type": "code",
      "source": [
        "summary(df)"
      ],
      "metadata": {
        "colab": {
          "base_uri": "https://localhost:8080/",
          "height": 731
        },
        "id": "FkJYO_CSsdBR",
        "outputId": "e2687c9a-b50b-45fa-c089-eddd63e1b1ce"
      },
      "execution_count": 2,
      "outputs": [
        {
          "output_type": "display_data",
          "data": {
            "text/plain": [
              "    Gender          Age            Height          Weight      \n",
              " Female:1043   Min.   :14.00   Min.   :1.450   Min.   : 39.00  \n",
              " Male  :1068   1st Qu.:19.95   1st Qu.:1.630   1st Qu.: 65.47  \n",
              "               Median :22.78   Median :1.700   Median : 83.00  \n",
              "               Mean   :24.31   Mean   :1.702   Mean   : 86.59  \n",
              "               3rd Qu.:26.00   3rd Qu.:1.768   3rd Qu.:107.43  \n",
              "               Max.   :61.00   Max.   :1.980   Max.   :173.00  \n",
              "                                                               \n",
              " family_history_with_overweight  FAVC           FCVC            NCP       \n",
              " no : 385                       no : 245   Min.   :1.000   Min.   :1.000  \n",
              " yes:1726                       yes:1866   1st Qu.:2.000   1st Qu.:2.659  \n",
              "                                           Median :2.386   Median :3.000  \n",
              "                                           Mean   :2.419   Mean   :2.686  \n",
              "                                           3rd Qu.:3.000   3rd Qu.:3.000  \n",
              "                                           Max.   :3.000   Max.   :4.000  \n",
              "                                                                          \n",
              "         CAEC      SMOKE           CH2O        SCC            FAF        \n",
              " Always    :  53   no :2067   Min.   :1.000   no :2015   Min.   :0.0000  \n",
              " Frequently: 242   yes:  44   1st Qu.:1.585   yes:  96   1st Qu.:0.1245  \n",
              " no        :  51              Median :2.000              Median :1.0000  \n",
              " Sometimes :1765              Mean   :2.008              Mean   :1.0103  \n",
              "                              3rd Qu.:2.477              3rd Qu.:1.6667  \n",
              "                              Max.   :3.000              Max.   :3.0000  \n",
              "                                                                         \n",
              "      TUE                 CALC                        MTRANS    \n",
              " Min.   :0.0000   Always    :   1   Automobile           : 457  \n",
              " 1st Qu.:0.0000   Frequently:  70   Bike                 :   7  \n",
              " Median :0.6253   no        : 639   Motorbike            :  11  \n",
              " Mean   :0.6579   Sometimes :1401   Public_Transportation:1580  \n",
              " 3rd Qu.:1.0000                     Walking              :  56  \n",
              " Max.   :2.0000                                                 \n",
              "                                                                \n",
              "               NObeyesdad \n",
              " Insufficient_Weight:272  \n",
              " Normal_Weight      :287  \n",
              " Obesity_Type_I     :351  \n",
              " Obesity_Type_II    :297  \n",
              " Obesity_Type_III   :324  \n",
              " Overweight_Level_I :290  \n",
              " Overweight_Level_II:290  "
            ]
          },
          "metadata": {}
        }
      ]
    },
    {
      "cell_type": "code",
      "source": [],
      "metadata": {
        "id": "JIeYBTENsiPH"
      },
      "execution_count": 3,
      "outputs": []
    }
  ]
}