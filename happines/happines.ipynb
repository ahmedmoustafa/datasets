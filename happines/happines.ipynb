{
  "nbformat": 4,
  "nbformat_minor": 0,
  "metadata": {
    "colab": {
      "provenance": [],
      "authorship_tag": "ABX9TyPocCmzgJYhdKbAaS4/LLn6",
      "include_colab_link": true
    },
    "kernelspec": {
      "name": "python3",
      "display_name": "Python 3"
    },
    "language_info": {
      "name": "python"
    }
  },
  "cells": [
    {
      "cell_type": "markdown",
      "metadata": {
        "id": "view-in-github",
        "colab_type": "text"
      },
      "source": [
        "<a href=\"https://colab.research.google.com/github/ahmedmoustafa/datasets/blob/main/happines/happines.ipynb\" target=\"_parent\"><img src=\"https://colab.research.google.com/assets/colab-badge.svg\" alt=\"Open In Colab\"/></a>"
      ]
    },
    {
      "cell_type": "markdown",
      "source": [
        "# World Happiness Report"
      ],
      "metadata": {
        "id": "6xxbxrEXWotr"
      }
    },
    {
      "cell_type": "code",
      "execution_count": 1,
      "metadata": {
        "id": "Rrk2OSYAWb-h"
      },
      "outputs": [],
      "source": [
        "import pandas as pd\n",
        "import seaborn as sns"
      ]
    },
    {
      "cell_type": "code",
      "source": [
        "df = pd.read_table(\"https://raw.githubusercontent.com/ahmedmoustafa/datasets/refs/heads/main/happiness/happiness.tsv\")\n",
        "df.shape"
      ],
      "metadata": {
        "colab": {
          "base_uri": "https://localhost:8080/"
        },
        "id": "oQZxRj3RWwQu",
        "outputId": "ee6989d6-7501-428a-b1f0-ea9f50d0d34f"
      },
      "execution_count": 2,
      "outputs": [
        {
          "output_type": "execute_result",
          "data": {
            "text/plain": [
              "(2363, 11)"
            ]
          },
          "metadata": {},
          "execution_count": 2
        }
      ]
    },
    {
      "cell_type": "code",
      "source": [
        "df.head()"
      ],
      "metadata": {
        "colab": {
          "base_uri": "https://localhost:8080/",
          "height": 226
        },
        "id": "_rVlGTLEXwdk",
        "outputId": "4c9be3a6-b87b-4250-8620-aa55873ec1d8"
      },
      "execution_count": 3,
      "outputs": [
        {
          "output_type": "execute_result",
          "data": {
            "text/plain": [
              "       country  year  life_ladder  log_gdp_per_capita  social_support  \\\n",
              "0  Afghanistan  2008        3.724               7.350           0.451   \n",
              "1  Afghanistan  2009        4.402               7.509           0.552   \n",
              "2  Afghanistan  2010        4.758               7.614           0.539   \n",
              "3  Afghanistan  2011        3.832               7.581           0.521   \n",
              "4  Afghanistan  2012        3.783               7.661           0.521   \n",
              "\n",
              "   healthy_life_expectancy_at_birth  freedom_to_make_life_choices  generosity  \\\n",
              "0                              50.5                         0.718       0.164   \n",
              "1                              50.8                         0.679       0.187   \n",
              "2                              51.1                         0.600       0.118   \n",
              "3                              51.4                         0.496       0.160   \n",
              "4                              51.7                         0.531       0.234   \n",
              "\n",
              "   perceptions_of_corruption  positive_affect  negative_affect  \n",
              "0                      0.882            0.414            0.258  \n",
              "1                      0.850            0.481            0.237  \n",
              "2                      0.707            0.517            0.275  \n",
              "3                      0.731            0.480            0.267  \n",
              "4                      0.776            0.614            0.268  "
            ],
            "text/html": [
              "\n",
              "  <div id=\"df-4f7f8ded-75e8-4a7d-af9f-71aa5564cbaf\" class=\"colab-df-container\">\n",
              "    <div>\n",
              "<style scoped>\n",
              "    .dataframe tbody tr th:only-of-type {\n",
              "        vertical-align: middle;\n",
              "    }\n",
              "\n",
              "    .dataframe tbody tr th {\n",
              "        vertical-align: top;\n",
              "    }\n",
              "\n",
              "    .dataframe thead th {\n",
              "        text-align: right;\n",
              "    }\n",
              "</style>\n",
              "<table border=\"1\" class=\"dataframe\">\n",
              "  <thead>\n",
              "    <tr style=\"text-align: right;\">\n",
              "      <th></th>\n",
              "      <th>country</th>\n",
              "      <th>year</th>\n",
              "      <th>life_ladder</th>\n",
              "      <th>log_gdp_per_capita</th>\n",
              "      <th>social_support</th>\n",
              "      <th>healthy_life_expectancy_at_birth</th>\n",
              "      <th>freedom_to_make_life_choices</th>\n",
              "      <th>generosity</th>\n",
              "      <th>perceptions_of_corruption</th>\n",
              "      <th>positive_affect</th>\n",
              "      <th>negative_affect</th>\n",
              "    </tr>\n",
              "  </thead>\n",
              "  <tbody>\n",
              "    <tr>\n",
              "      <th>0</th>\n",
              "      <td>Afghanistan</td>\n",
              "      <td>2008</td>\n",
              "      <td>3.724</td>\n",
              "      <td>7.350</td>\n",
              "      <td>0.451</td>\n",
              "      <td>50.5</td>\n",
              "      <td>0.718</td>\n",
              "      <td>0.164</td>\n",
              "      <td>0.882</td>\n",
              "      <td>0.414</td>\n",
              "      <td>0.258</td>\n",
              "    </tr>\n",
              "    <tr>\n",
              "      <th>1</th>\n",
              "      <td>Afghanistan</td>\n",
              "      <td>2009</td>\n",
              "      <td>4.402</td>\n",
              "      <td>7.509</td>\n",
              "      <td>0.552</td>\n",
              "      <td>50.8</td>\n",
              "      <td>0.679</td>\n",
              "      <td>0.187</td>\n",
              "      <td>0.850</td>\n",
              "      <td>0.481</td>\n",
              "      <td>0.237</td>\n",
              "    </tr>\n",
              "    <tr>\n",
              "      <th>2</th>\n",
              "      <td>Afghanistan</td>\n",
              "      <td>2010</td>\n",
              "      <td>4.758</td>\n",
              "      <td>7.614</td>\n",
              "      <td>0.539</td>\n",
              "      <td>51.1</td>\n",
              "      <td>0.600</td>\n",
              "      <td>0.118</td>\n",
              "      <td>0.707</td>\n",
              "      <td>0.517</td>\n",
              "      <td>0.275</td>\n",
              "    </tr>\n",
              "    <tr>\n",
              "      <th>3</th>\n",
              "      <td>Afghanistan</td>\n",
              "      <td>2011</td>\n",
              "      <td>3.832</td>\n",
              "      <td>7.581</td>\n",
              "      <td>0.521</td>\n",
              "      <td>51.4</td>\n",
              "      <td>0.496</td>\n",
              "      <td>0.160</td>\n",
              "      <td>0.731</td>\n",
              "      <td>0.480</td>\n",
              "      <td>0.267</td>\n",
              "    </tr>\n",
              "    <tr>\n",
              "      <th>4</th>\n",
              "      <td>Afghanistan</td>\n",
              "      <td>2012</td>\n",
              "      <td>3.783</td>\n",
              "      <td>7.661</td>\n",
              "      <td>0.521</td>\n",
              "      <td>51.7</td>\n",
              "      <td>0.531</td>\n",
              "      <td>0.234</td>\n",
              "      <td>0.776</td>\n",
              "      <td>0.614</td>\n",
              "      <td>0.268</td>\n",
              "    </tr>\n",
              "  </tbody>\n",
              "</table>\n",
              "</div>\n",
              "    <div class=\"colab-df-buttons\">\n",
              "\n",
              "  <div class=\"colab-df-container\">\n",
              "    <button class=\"colab-df-convert\" onclick=\"convertToInteractive('df-4f7f8ded-75e8-4a7d-af9f-71aa5564cbaf')\"\n",
              "            title=\"Convert this dataframe to an interactive table.\"\n",
              "            style=\"display:none;\">\n",
              "\n",
              "  <svg xmlns=\"http://www.w3.org/2000/svg\" height=\"24px\" viewBox=\"0 -960 960 960\">\n",
              "    <path d=\"M120-120v-720h720v720H120Zm60-500h600v-160H180v160Zm220 220h160v-160H400v160Zm0 220h160v-160H400v160ZM180-400h160v-160H180v160Zm440 0h160v-160H620v160ZM180-180h160v-160H180v160Zm440 0h160v-160H620v160Z\"/>\n",
              "  </svg>\n",
              "    </button>\n",
              "\n",
              "  <style>\n",
              "    .colab-df-container {\n",
              "      display:flex;\n",
              "      gap: 12px;\n",
              "    }\n",
              "\n",
              "    .colab-df-convert {\n",
              "      background-color: #E8F0FE;\n",
              "      border: none;\n",
              "      border-radius: 50%;\n",
              "      cursor: pointer;\n",
              "      display: none;\n",
              "      fill: #1967D2;\n",
              "      height: 32px;\n",
              "      padding: 0 0 0 0;\n",
              "      width: 32px;\n",
              "    }\n",
              "\n",
              "    .colab-df-convert:hover {\n",
              "      background-color: #E2EBFA;\n",
              "      box-shadow: 0px 1px 2px rgba(60, 64, 67, 0.3), 0px 1px 3px 1px rgba(60, 64, 67, 0.15);\n",
              "      fill: #174EA6;\n",
              "    }\n",
              "\n",
              "    .colab-df-buttons div {\n",
              "      margin-bottom: 4px;\n",
              "    }\n",
              "\n",
              "    [theme=dark] .colab-df-convert {\n",
              "      background-color: #3B4455;\n",
              "      fill: #D2E3FC;\n",
              "    }\n",
              "\n",
              "    [theme=dark] .colab-df-convert:hover {\n",
              "      background-color: #434B5C;\n",
              "      box-shadow: 0px 1px 3px 1px rgba(0, 0, 0, 0.15);\n",
              "      filter: drop-shadow(0px 1px 2px rgba(0, 0, 0, 0.3));\n",
              "      fill: #FFFFFF;\n",
              "    }\n",
              "  </style>\n",
              "\n",
              "    <script>\n",
              "      const buttonEl =\n",
              "        document.querySelector('#df-4f7f8ded-75e8-4a7d-af9f-71aa5564cbaf button.colab-df-convert');\n",
              "      buttonEl.style.display =\n",
              "        google.colab.kernel.accessAllowed ? 'block' : 'none';\n",
              "\n",
              "      async function convertToInteractive(key) {\n",
              "        const element = document.querySelector('#df-4f7f8ded-75e8-4a7d-af9f-71aa5564cbaf');\n",
              "        const dataTable =\n",
              "          await google.colab.kernel.invokeFunction('convertToInteractive',\n",
              "                                                    [key], {});\n",
              "        if (!dataTable) return;\n",
              "\n",
              "        const docLinkHtml = 'Like what you see? Visit the ' +\n",
              "          '<a target=\"_blank\" href=https://colab.research.google.com/notebooks/data_table.ipynb>data table notebook</a>'\n",
              "          + ' to learn more about interactive tables.';\n",
              "        element.innerHTML = '';\n",
              "        dataTable['output_type'] = 'display_data';\n",
              "        await google.colab.output.renderOutput(dataTable, element);\n",
              "        const docLink = document.createElement('div');\n",
              "        docLink.innerHTML = docLinkHtml;\n",
              "        element.appendChild(docLink);\n",
              "      }\n",
              "    </script>\n",
              "  </div>\n",
              "\n",
              "\n",
              "<div id=\"df-832dce6d-ca76-471c-814b-25778995ac60\">\n",
              "  <button class=\"colab-df-quickchart\" onclick=\"quickchart('df-832dce6d-ca76-471c-814b-25778995ac60')\"\n",
              "            title=\"Suggest charts\"\n",
              "            style=\"display:none;\">\n",
              "\n",
              "<svg xmlns=\"http://www.w3.org/2000/svg\" height=\"24px\"viewBox=\"0 0 24 24\"\n",
              "     width=\"24px\">\n",
              "    <g>\n",
              "        <path d=\"M19 3H5c-1.1 0-2 .9-2 2v14c0 1.1.9 2 2 2h14c1.1 0 2-.9 2-2V5c0-1.1-.9-2-2-2zM9 17H7v-7h2v7zm4 0h-2V7h2v10zm4 0h-2v-4h2v4z\"/>\n",
              "    </g>\n",
              "</svg>\n",
              "  </button>\n",
              "\n",
              "<style>\n",
              "  .colab-df-quickchart {\n",
              "      --bg-color: #E8F0FE;\n",
              "      --fill-color: #1967D2;\n",
              "      --hover-bg-color: #E2EBFA;\n",
              "      --hover-fill-color: #174EA6;\n",
              "      --disabled-fill-color: #AAA;\n",
              "      --disabled-bg-color: #DDD;\n",
              "  }\n",
              "\n",
              "  [theme=dark] .colab-df-quickchart {\n",
              "      --bg-color: #3B4455;\n",
              "      --fill-color: #D2E3FC;\n",
              "      --hover-bg-color: #434B5C;\n",
              "      --hover-fill-color: #FFFFFF;\n",
              "      --disabled-bg-color: #3B4455;\n",
              "      --disabled-fill-color: #666;\n",
              "  }\n",
              "\n",
              "  .colab-df-quickchart {\n",
              "    background-color: var(--bg-color);\n",
              "    border: none;\n",
              "    border-radius: 50%;\n",
              "    cursor: pointer;\n",
              "    display: none;\n",
              "    fill: var(--fill-color);\n",
              "    height: 32px;\n",
              "    padding: 0;\n",
              "    width: 32px;\n",
              "  }\n",
              "\n",
              "  .colab-df-quickchart:hover {\n",
              "    background-color: var(--hover-bg-color);\n",
              "    box-shadow: 0 1px 2px rgba(60, 64, 67, 0.3), 0 1px 3px 1px rgba(60, 64, 67, 0.15);\n",
              "    fill: var(--button-hover-fill-color);\n",
              "  }\n",
              "\n",
              "  .colab-df-quickchart-complete:disabled,\n",
              "  .colab-df-quickchart-complete:disabled:hover {\n",
              "    background-color: var(--disabled-bg-color);\n",
              "    fill: var(--disabled-fill-color);\n",
              "    box-shadow: none;\n",
              "  }\n",
              "\n",
              "  .colab-df-spinner {\n",
              "    border: 2px solid var(--fill-color);\n",
              "    border-color: transparent;\n",
              "    border-bottom-color: var(--fill-color);\n",
              "    animation:\n",
              "      spin 1s steps(1) infinite;\n",
              "  }\n",
              "\n",
              "  @keyframes spin {\n",
              "    0% {\n",
              "      border-color: transparent;\n",
              "      border-bottom-color: var(--fill-color);\n",
              "      border-left-color: var(--fill-color);\n",
              "    }\n",
              "    20% {\n",
              "      border-color: transparent;\n",
              "      border-left-color: var(--fill-color);\n",
              "      border-top-color: var(--fill-color);\n",
              "    }\n",
              "    30% {\n",
              "      border-color: transparent;\n",
              "      border-left-color: var(--fill-color);\n",
              "      border-top-color: var(--fill-color);\n",
              "      border-right-color: var(--fill-color);\n",
              "    }\n",
              "    40% {\n",
              "      border-color: transparent;\n",
              "      border-right-color: var(--fill-color);\n",
              "      border-top-color: var(--fill-color);\n",
              "    }\n",
              "    60% {\n",
              "      border-color: transparent;\n",
              "      border-right-color: var(--fill-color);\n",
              "    }\n",
              "    80% {\n",
              "      border-color: transparent;\n",
              "      border-right-color: var(--fill-color);\n",
              "      border-bottom-color: var(--fill-color);\n",
              "    }\n",
              "    90% {\n",
              "      border-color: transparent;\n",
              "      border-bottom-color: var(--fill-color);\n",
              "    }\n",
              "  }\n",
              "</style>\n",
              "\n",
              "  <script>\n",
              "    async function quickchart(key) {\n",
              "      const quickchartButtonEl =\n",
              "        document.querySelector('#' + key + ' button');\n",
              "      quickchartButtonEl.disabled = true;  // To prevent multiple clicks.\n",
              "      quickchartButtonEl.classList.add('colab-df-spinner');\n",
              "      try {\n",
              "        const charts = await google.colab.kernel.invokeFunction(\n",
              "            'suggestCharts', [key], {});\n",
              "      } catch (error) {\n",
              "        console.error('Error during call to suggestCharts:', error);\n",
              "      }\n",
              "      quickchartButtonEl.classList.remove('colab-df-spinner');\n",
              "      quickchartButtonEl.classList.add('colab-df-quickchart-complete');\n",
              "    }\n",
              "    (() => {\n",
              "      let quickchartButtonEl =\n",
              "        document.querySelector('#df-832dce6d-ca76-471c-814b-25778995ac60 button');\n",
              "      quickchartButtonEl.style.display =\n",
              "        google.colab.kernel.accessAllowed ? 'block' : 'none';\n",
              "    })();\n",
              "  </script>\n",
              "</div>\n",
              "\n",
              "    </div>\n",
              "  </div>\n"
            ],
            "application/vnd.google.colaboratory.intrinsic+json": {
              "type": "dataframe",
              "variable_name": "df",
              "summary": "{\n  \"name\": \"df\",\n  \"rows\": 2363,\n  \"fields\": [\n    {\n      \"column\": \"country\",\n      \"properties\": {\n        \"dtype\": \"category\",\n        \"num_unique_values\": 165,\n        \"samples\": [\n          \"South Sudan\",\n          \"Paraguay\",\n          \"Somalia\"\n        ],\n        \"semantic_type\": \"\",\n        \"description\": \"\"\n      }\n    },\n    {\n      \"column\": \"year\",\n      \"properties\": {\n        \"dtype\": \"number\",\n        \"std\": 5,\n        \"min\": 2005,\n        \"max\": 2023,\n        \"num_unique_values\": 19,\n        \"samples\": [\n          2008,\n          2013,\n          2019\n        ],\n        \"semantic_type\": \"\",\n        \"description\": \"\"\n      }\n    },\n    {\n      \"column\": \"life_ladder\",\n      \"properties\": {\n        \"dtype\": \"number\",\n        \"std\": 1.1255215132391931,\n        \"min\": 1.281,\n        \"max\": 8.019,\n        \"num_unique_values\": 1814,\n        \"samples\": [\n          5.154,\n          4.417,\n          4.842\n        ],\n        \"semantic_type\": \"\",\n        \"description\": \"\"\n      }\n    },\n    {\n      \"column\": \"log_gdp_per_capita\",\n      \"properties\": {\n        \"dtype\": \"number\",\n        \"std\": 1.1567523305841534,\n        \"min\": 5.527,\n        \"max\": 11.676,\n        \"num_unique_values\": 1774,\n        \"samples\": [\n          7.852,\n          10.766,\n          9.091\n        ],\n        \"semantic_type\": \"\",\n        \"description\": \"\"\n      }\n    },\n    {\n      \"column\": \"social_support\",\n      \"properties\": {\n        \"dtype\": \"number\",\n        \"std\": 0.12100393003835339,\n        \"min\": 0.228,\n        \"max\": 0.987,\n        \"num_unique_values\": 484,\n        \"samples\": [\n          0.703,\n          0.576,\n          0.656\n        ],\n        \"semantic_type\": \"\",\n        \"description\": \"\"\n      }\n    },\n    {\n      \"column\": \"healthy_life_expectancy_at_birth\",\n      \"properties\": {\n        \"dtype\": \"number\",\n        \"std\": 6.811834797438563,\n        \"min\": 6.72,\n        \"max\": 74.6,\n        \"num_unique_values\": 1188,\n        \"samples\": [\n          68.5,\n          58.52,\n          51.18\n        ],\n        \"semantic_type\": \"\",\n        \"description\": \"\"\n      }\n    },\n    {\n      \"column\": \"freedom_to_make_life_choices\",\n      \"properties\": {\n        \"dtype\": \"number\",\n        \"std\": 0.13878872425882358,\n        \"min\": 0.228,\n        \"max\": 0.985,\n        \"num_unique_values\": 550,\n        \"samples\": [\n          0.722,\n          0.916,\n          0.752\n        ],\n        \"semantic_type\": \"\",\n        \"description\": \"\"\n      }\n    },\n    {\n      \"column\": \"generosity\",\n      \"properties\": {\n        \"dtype\": \"number\",\n        \"std\": 0.15968970350413086,\n        \"min\": -0.34,\n        \"max\": 0.7,\n        \"num_unique_values\": 651,\n        \"samples\": [\n          0.09,\n          -0.017,\n          0.22\n        ],\n        \"semantic_type\": \"\",\n        \"description\": \"\"\n      }\n    },\n    {\n      \"column\": \"perceptions_of_corruption\",\n      \"properties\": {\n        \"dtype\": \"number\",\n        \"std\": 0.18619037173446776,\n        \"min\": 0.035,\n        \"max\": 0.983,\n        \"num_unique_values\": 636,\n        \"samples\": [\n          0.836,\n          0.481,\n          0.546\n        ],\n        \"semantic_type\": \"\",\n        \"description\": \"\"\n      }\n    },\n    {\n      \"column\": \"positive_affect\",\n      \"properties\": {\n        \"dtype\": \"number\",\n        \"std\": 0.10596889735199602,\n        \"min\": 0.179,\n        \"max\": 0.884,\n        \"num_unique_values\": 442,\n        \"samples\": [\n          0.743,\n          0.759,\n          0.531\n        ],\n        \"semantic_type\": \"\",\n        \"description\": \"\"\n      }\n    },\n    {\n      \"column\": \"negative_affect\",\n      \"properties\": {\n        \"dtype\": \"number\",\n        \"std\": 0.08697147569837639,\n        \"min\": 0.083,\n        \"max\": 0.705,\n        \"num_unique_values\": 394,\n        \"samples\": [\n          0.225,\n          0.243,\n          0.323\n        ],\n        \"semantic_type\": \"\",\n        \"description\": \"\"\n      }\n    }\n  ]\n}"
            }
          },
          "metadata": {},
          "execution_count": 3
        }
      ]
    },
    {
      "cell_type": "markdown",
      "source": [
        "## What are the average, minimum, and maximum values of `life_ladder` (happiness scores) across all countries?"
      ],
      "metadata": {
        "id": "mkyPZnnVX4R-"
      }
    },
    {
      "cell_type": "code",
      "source": [],
      "metadata": {
        "id": "N1SlDWqXXxoe"
      },
      "execution_count": 3,
      "outputs": []
    },
    {
      "cell_type": "markdown",
      "source": [
        "## How does `life_ladder` vary across different continents or regions?"
      ],
      "metadata": {
        "id": "pGM8Mrs0X9O_"
      }
    },
    {
      "cell_type": "code",
      "source": [],
      "metadata": {
        "id": "CrhB6rDEX_2M"
      },
      "execution_count": 3,
      "outputs": []
    },
    {
      "cell_type": "markdown",
      "source": [
        "## What is the range of `log_gdp_per_capita` values, and which countries have the highest and lowest GDP per capita?"
      ],
      "metadata": {
        "id": "i2v1g6d_YAc0"
      }
    },
    {
      "cell_type": "code",
      "source": [],
      "metadata": {
        "id": "x4PNc0ANYEAD"
      },
      "execution_count": 3,
      "outputs": []
    },
    {
      "cell_type": "markdown",
      "source": [
        "## How has the `life_ladder` score changed over time in a specific country?"
      ],
      "metadata": {
        "id": "0hlTG9uRYEvj"
      }
    },
    {
      "cell_type": "code",
      "source": [],
      "metadata": {
        "id": "YWM_ac6oYGz6"
      },
      "execution_count": 3,
      "outputs": []
    },
    {
      "cell_type": "markdown",
      "source": [
        "## Which countries have seen the largest increase or decrease in happiness scores over the years?"
      ],
      "metadata": {
        "id": "x3969aDTYHcN"
      }
    },
    {
      "cell_type": "code",
      "source": [],
      "metadata": {
        "id": "WUc8gf62YJP6"
      },
      "execution_count": 3,
      "outputs": []
    },
    {
      "cell_type": "markdown",
      "source": [
        "## Are there noticeable trends in `healthy_life_expectancy_at_birth` over time across regions or continents?"
      ],
      "metadata": {
        "id": "QjWhlmmIYJut"
      }
    },
    {
      "cell_type": "code",
      "source": [],
      "metadata": {
        "id": "_zTTEeCjYL02"
      },
      "execution_count": 3,
      "outputs": []
    },
    {
      "cell_type": "markdown",
      "source": [
        "## What is the relationship between `log_gdp_per_capita` and `life_ladder`? Do countries with higher GDP per capita tend to have higher happiness scores?"
      ],
      "metadata": {
        "id": "KViGBfyOYMRm"
      }
    },
    {
      "cell_type": "code",
      "source": [],
      "metadata": {
        "id": "6WYXWKoCYN07"
      },
      "execution_count": 3,
      "outputs": []
    },
    {
      "cell_type": "markdown",
      "source": [
        "## How does `social_support` correlate with `life_ladder`? Do countries with higher social support report higher happiness?"
      ],
      "metadata": {
        "id": "quv2XunSYOO3"
      }
    },
    {
      "cell_type": "code",
      "source": [],
      "metadata": {
        "id": "k4nRyCiJYPwa"
      },
      "execution_count": 3,
      "outputs": []
    },
    {
      "cell_type": "markdown",
      "source": [
        "## Is there a relationship between `freedom_to_make_life_choices` and `life_ladder`?"
      ],
      "metadata": {
        "id": "ZQuvjN7dYQNk"
      }
    },
    {
      "cell_type": "code",
      "source": [],
      "metadata": {
        "id": "cSF3qZ2BYRpj"
      },
      "execution_count": 3,
      "outputs": []
    },
    {
      "cell_type": "markdown",
      "source": [
        "## How do `positive_affect` and `negative_affect` differ across countries? Are there countries with high positive affect and low negative affect, or vice versa?"
      ],
      "metadata": {
        "id": "pm5JzvCbYSLp"
      }
    },
    {
      "cell_type": "code",
      "source": [],
      "metadata": {
        "id": "k1l6qr2eYTpD"
      },
      "execution_count": 3,
      "outputs": []
    },
    {
      "cell_type": "markdown",
      "source": [
        "## Is there a correlation between `life_ladder` and `positive_affect`? What about `life_ladder` and `negative_affect`?"
      ],
      "metadata": {
        "id": "HYnWY-JKYUJx"
      }
    },
    {
      "cell_type": "code",
      "source": [],
      "metadata": {
        "id": "22SAgedQYVnB"
      },
      "execution_count": 3,
      "outputs": []
    },
    {
      "cell_type": "markdown",
      "source": [
        "## Does `perceptions_of_corruption` influence `life_ladder`? Do countries with lower perceived corruption have higher happiness scores?"
      ],
      "metadata": {
        "id": "B7z7KhN5YWBl"
      }
    },
    {
      "cell_type": "code",
      "source": [],
      "metadata": {
        "id": "PA6-WqlWYXoZ"
      },
      "execution_count": 3,
      "outputs": []
    },
    {
      "cell_type": "markdown",
      "source": [
        "## How does the `generosity` measure correlate with `log_gdp_per_capita`? Are wealthier countries generally more or less generous?"
      ],
      "metadata": {
        "id": "T7-Y_xM4YYYY"
      }
    },
    {
      "cell_type": "code",
      "source": [],
      "metadata": {
        "id": "ZPOfTD2MYZ7h"
      },
      "execution_count": 3,
      "outputs": []
    },
    {
      "cell_type": "markdown",
      "source": [
        "## How do different regions or continents compare in terms of `life_ladder`, `social_support`, and `freedom_to_make_life_choices`?"
      ],
      "metadata": {
        "id": "DI6yGKs6Yahx"
      }
    },
    {
      "cell_type": "code",
      "source": [],
      "metadata": {
        "id": "MYzbRXZuYb5B"
      },
      "execution_count": 3,
      "outputs": []
    },
    {
      "cell_type": "markdown",
      "source": [
        "## Are there differences in `healthy_life_expectancy_at_birth` between countries in different economic classifications?"
      ],
      "metadata": {
        "id": "cTuUkvOCYcXO"
      }
    },
    {
      "cell_type": "code",
      "source": [],
      "metadata": {
        "id": "jTmFce1AYd35"
      },
      "execution_count": 3,
      "outputs": []
    },
    {
      "cell_type": "markdown",
      "source": [
        "## Create a time-series chart showing `life_ladder` over time for a selected group of countries."
      ],
      "metadata": {
        "id": "jSVKVN6cYebf"
      }
    },
    {
      "cell_type": "code",
      "source": [],
      "metadata": {
        "id": "uXPrrui0YgbO"
      },
      "execution_count": 3,
      "outputs": []
    },
    {
      "cell_type": "markdown",
      "source": [
        "## Use scatter plots to explore relationships between `log_gdp_per_capita` and `life_ladder`, color-coded by continent or region."
      ],
      "metadata": {
        "id": "jS0Q5-ewYg-t"
      }
    },
    {
      "cell_type": "code",
      "source": [],
      "metadata": {
        "id": "QVm6BqTNYiT9"
      },
      "execution_count": 3,
      "outputs": []
    }
  ]
}