{
  "nbformat": 4,
  "nbformat_minor": 0,
  "metadata": {
    "colab": {
      "provenance": [],
      "authorship_tag": "ABX9TyMk4h+OcAtbhJEMwLWeoEEq",
      "include_colab_link": true
    },
    "kernelspec": {
      "name": "ir",
      "display_name": "R"
    },
    "language_info": {
      "name": "R"
    }
  },
  "cells": [
    {
      "cell_type": "markdown",
      "metadata": {
        "id": "view-in-github",
        "colab_type": "text"
      },
      "source": [
        "<a href=\"https://colab.research.google.com/github/ahmedmoustafa/datasets/blob/main/transcript/transcript.ipynb\" target=\"_parent\"><img src=\"https://colab.research.google.com/assets/colab-badge.svg\" alt=\"Open In Colab\"/></a>"
      ]
    },
    {
      "cell_type": "code",
      "execution_count": 1,
      "metadata": {
        "colab": {
          "base_uri": "https://localhost:8080/",
          "height": 286
        },
        "id": "SYwNUJCZ6VCZ",
        "outputId": "3513146c-ad2f-4b17-9431-d95ded271bf2"
      },
      "outputs": [
        {
          "output_type": "display_data",
          "data": {
            "text/html": [
              "<table class=\"dataframe\">\n",
              "<caption>A data.frame: 6 × 6</caption>\n",
              "<thead>\n",
              "\t<tr><th></th><th scope=col>year</th><th scope=col>semester</th><th scope=col>course_number</th><th scope=col>credits</th><th scope=col>letter_grade</th><th scope=col>numerical_value</th></tr>\n",
              "\t<tr><th></th><th scope=col>&lt;chr&gt;</th><th scope=col>&lt;chr&gt;</th><th scope=col>&lt;chr&gt;</th><th scope=col>&lt;int&gt;</th><th scope=col>&lt;chr&gt;</th><th scope=col>&lt;dbl&gt;</th></tr>\n",
              "</thead>\n",
              "<tbody>\n",
              "\t<tr><th scope=row>1</th><td>Freshman</td><td>Fall  </td><td>COMP100</td><td>3</td><td>A-</td><td>3.7</td></tr>\n",
              "\t<tr><th scope=row>2</th><td>Freshman</td><td>Fall  </td><td>COMP110</td><td>3</td><td>A </td><td>4.0</td></tr>\n",
              "\t<tr><th scope=row>3</th><td>Freshman</td><td>Fall  </td><td>HUMA181</td><td>3</td><td>A-</td><td>3.7</td></tr>\n",
              "\t<tr><th scope=row>4</th><td>Freshman</td><td>Fall  </td><td>SOCI181</td><td>3</td><td>A-</td><td>3.7</td></tr>\n",
              "\t<tr><th scope=row>5</th><td>Freshman</td><td>Fall  </td><td>ELEC181</td><td>3</td><td>B+</td><td>3.3</td></tr>\n",
              "\t<tr><th scope=row>6</th><td>Freshman</td><td>Spring</td><td>COMP120</td><td>3</td><td>A </td><td>4.0</td></tr>\n",
              "</tbody>\n",
              "</table>\n"
            ],
            "text/markdown": "\nA data.frame: 6 × 6\n\n| <!--/--> | year &lt;chr&gt; | semester &lt;chr&gt; | course_number &lt;chr&gt; | credits &lt;int&gt; | letter_grade &lt;chr&gt; | numerical_value &lt;dbl&gt; |\n|---|---|---|---|---|---|---|\n| 1 | Freshman | Fall   | COMP100 | 3 | A- | 3.7 |\n| 2 | Freshman | Fall   | COMP110 | 3 | A  | 4.0 |\n| 3 | Freshman | Fall   | HUMA181 | 3 | A- | 3.7 |\n| 4 | Freshman | Fall   | SOCI181 | 3 | A- | 3.7 |\n| 5 | Freshman | Fall   | ELEC181 | 3 | B+ | 3.3 |\n| 6 | Freshman | Spring | COMP120 | 3 | A  | 4.0 |\n\n",
            "text/latex": "A data.frame: 6 × 6\n\\begin{tabular}{r|llllll}\n  & year & semester & course\\_number & credits & letter\\_grade & numerical\\_value\\\\\n  & <chr> & <chr> & <chr> & <int> & <chr> & <dbl>\\\\\n\\hline\n\t1 & Freshman & Fall   & COMP100 & 3 & A- & 3.7\\\\\n\t2 & Freshman & Fall   & COMP110 & 3 & A  & 4.0\\\\\n\t3 & Freshman & Fall   & HUMA181 & 3 & A- & 3.7\\\\\n\t4 & Freshman & Fall   & SOCI181 & 3 & A- & 3.7\\\\\n\t5 & Freshman & Fall   & ELEC181 & 3 & B+ & 3.3\\\\\n\t6 & Freshman & Spring & COMP120 & 3 & A  & 4.0\\\\\n\\end{tabular}\n",
            "text/plain": [
              "  year     semester course_number credits letter_grade numerical_value\n",
              "1 Freshman Fall     COMP100       3       A-           3.7            \n",
              "2 Freshman Fall     COMP110       3       A            4.0            \n",
              "3 Freshman Fall     HUMA181       3       A-           3.7            \n",
              "4 Freshman Fall     SOCI181       3       A-           3.7            \n",
              "5 Freshman Fall     ELEC181       3       B+           3.3            \n",
              "6 Freshman Spring   COMP120       3       A            4.0            "
            ]
          },
          "metadata": {}
        }
      ],
      "source": [
        "transcript = read.csv (\"https://raw.githubusercontent.com/ahmedmoustafa/datasets/main/transcript/transcript.csv\")\n",
        "head(transcript)"
      ]
    },
    {
      "cell_type": "code",
      "source": [],
      "metadata": {
        "id": "o3y-2DzL6noY"
      },
      "execution_count": null,
      "outputs": []
    }
  ]
}