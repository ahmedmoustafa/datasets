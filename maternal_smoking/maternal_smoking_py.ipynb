{
  "cells": [
    {
      "cell_type": "markdown",
      "metadata": {
        "id": "view-in-github",
        "colab_type": "text"
      },
      "source": [
        "<a href=\"https://colab.research.google.com/github/ahmedmoustafa/datasets/blob/main/maternal_smoking/maternal_smoking_py.ipynb\" target=\"_parent\"><img src=\"https://colab.research.google.com/assets/colab-badge.svg\" alt=\"Open In Colab\"/></a>"
      ]
    },
    {
      "cell_type": "markdown",
      "metadata": {
        "id": "aBg1rOzmEkmp"
      },
      "source": [
        "# Maternal Smoking"
      ]
    },
    {
      "cell_type": "markdown",
      "metadata": {
        "id": "9S7e6shIcvgs"
      },
      "source": [
        "First, we need to import the packages (libraries) that will be used in the analysis: [Pandas](https://pandas.pydata.org/) for data loading and wrangling, and [Seaborn](https://seaborn.pydata.org/) for data visualization."
      ]
    },
    {
      "cell_type": "code",
      "execution_count": 1,
      "metadata": {
        "id": "xuhWjeg7EeWk"
      },
      "outputs": [],
      "source": [
        "import pandas as pd # Import the pandas package using the alias 'pd'\n",
        "import seaborn as sns # Import the seaborn package using the alias 'sns'"
      ]
    },
    {
      "cell_type": "markdown",
      "metadata": {
        "id": "ah8ZcK4Mcvgu"
      },
      "source": [
        "Now, we can easily access the data from an online [`TSV`](https://en.wikipedia.org/wiki/Tab-separated_values) file using Pandas' [read_table()](https://pandas.pydata.org/docs/reference/api/pandas.read_table.html) function. Before moving forward, you may want to open and examine the data file at this link: [https://raw.githubusercontent.com/ahmedmoustafa/datasets/refs/heads/main/maternal_smoking/maternal_smoking.tsv](https://raw.githubusercontent.com/ahmedmoustafa/datasets/refs/heads/main/maternal_smoking/maternal_smoking.tsv). This will help you gain a better understanding of the data's structure and content."
      ]
    },
    {
      "cell_type": "code",
      "execution_count": 2,
      "metadata": {
        "colab": {
          "base_uri": "https://localhost:8080/"
        },
        "id": "lwP2QUWcE-qG",
        "outputId": "d4afcb60-8dda-4fc6-cd28-28e6d42f1b4f"
      },
      "outputs": [
        {
          "output_type": "execute_result",
          "data": {
            "text/plain": [
              "(610, 20)"
            ]
          },
          "metadata": {},
          "execution_count": 2
        }
      ],
      "source": [
        " # Read and load the tsv data file into a pandas DataFrame\n",
        "df = pd.read_table(\"https://raw.githubusercontent.com/ahmedmoustafa/datasets/refs/heads/main/maternal_smoking/maternal_smoking.tsv\")\n",
        "df.shape"
      ]
    },
    {
      "cell_type": "code",
      "source": [
        "df.head()"
      ],
      "metadata": {
        "colab": {
          "base_uri": "https://localhost:8080/",
          "height": 226
        },
        "id": "1m8d7YijCg7z",
        "outputId": "f61cc3e7-902e-4710-e6f9-52e913c4e4d1"
      },
      "execution_count": 3,
      "outputs": [
        {
          "output_type": "execute_result",
          "data": {
            "text/plain": [
              "    id  date  gestation  weight  parity mom.race  mom.age  mom.edu  \\\n",
              "0   15  1411        284     120       1    asian       27        5   \n",
              "1   20  1499        282     113       2    white       33        5   \n",
              "2  100  1673        286     136       4    white       25        2   \n",
              "3  129  1562        245     132       2    black       23        1   \n",
              "4  142  1408        289     120       3    white       25        4   \n",
              "\n",
              "   mom.height  mom.weight dad.race  dad.age  dad.edu  dad.height  dad.weight  \\\n",
              "0          62         100    asian       31        5          65         110   \n",
              "1          64         135    white       38        5          70         148   \n",
              "2          62          93    white       28        2          64         130   \n",
              "3          65         140    black       23        4          71         192   \n",
              "4          62         125    white       26        1          70         180   \n",
              "\n",
              "   marital  income            smoke  quit.time  cigs  \n",
              "0        1       1            never          0     0  \n",
              "1        1       4            never          0     0  \n",
              "2        1       4  until_pregnancy          2     2  \n",
              "3        1       2            never          0     0  \n",
              "4        0       2            never          0     0  "
            ],
            "text/html": [
              "\n",
              "  <div id=\"df-06ef5380-f56b-48cc-8b32-3751602d47cb\" class=\"colab-df-container\">\n",
              "    <div>\n",
              "<style scoped>\n",
              "    .dataframe tbody tr th:only-of-type {\n",
              "        vertical-align: middle;\n",
              "    }\n",
              "\n",
              "    .dataframe tbody tr th {\n",
              "        vertical-align: top;\n",
              "    }\n",
              "\n",
              "    .dataframe thead th {\n",
              "        text-align: right;\n",
              "    }\n",
              "</style>\n",
              "<table border=\"1\" class=\"dataframe\">\n",
              "  <thead>\n",
              "    <tr style=\"text-align: right;\">\n",
              "      <th></th>\n",
              "      <th>id</th>\n",
              "      <th>date</th>\n",
              "      <th>gestation</th>\n",
              "      <th>weight</th>\n",
              "      <th>parity</th>\n",
              "      <th>mom.race</th>\n",
              "      <th>mom.age</th>\n",
              "      <th>mom.edu</th>\n",
              "      <th>mom.height</th>\n",
              "      <th>mom.weight</th>\n",
              "      <th>dad.race</th>\n",
              "      <th>dad.age</th>\n",
              "      <th>dad.edu</th>\n",
              "      <th>dad.height</th>\n",
              "      <th>dad.weight</th>\n",
              "      <th>marital</th>\n",
              "      <th>income</th>\n",
              "      <th>smoke</th>\n",
              "      <th>quit.time</th>\n",
              "      <th>cigs</th>\n",
              "    </tr>\n",
              "  </thead>\n",
              "  <tbody>\n",
              "    <tr>\n",
              "      <th>0</th>\n",
              "      <td>15</td>\n",
              "      <td>1411</td>\n",
              "      <td>284</td>\n",
              "      <td>120</td>\n",
              "      <td>1</td>\n",
              "      <td>asian</td>\n",
              "      <td>27</td>\n",
              "      <td>5</td>\n",
              "      <td>62</td>\n",
              "      <td>100</td>\n",
              "      <td>asian</td>\n",
              "      <td>31</td>\n",
              "      <td>5</td>\n",
              "      <td>65</td>\n",
              "      <td>110</td>\n",
              "      <td>1</td>\n",
              "      <td>1</td>\n",
              "      <td>never</td>\n",
              "      <td>0</td>\n",
              "      <td>0</td>\n",
              "    </tr>\n",
              "    <tr>\n",
              "      <th>1</th>\n",
              "      <td>20</td>\n",
              "      <td>1499</td>\n",
              "      <td>282</td>\n",
              "      <td>113</td>\n",
              "      <td>2</td>\n",
              "      <td>white</td>\n",
              "      <td>33</td>\n",
              "      <td>5</td>\n",
              "      <td>64</td>\n",
              "      <td>135</td>\n",
              "      <td>white</td>\n",
              "      <td>38</td>\n",
              "      <td>5</td>\n",
              "      <td>70</td>\n",
              "      <td>148</td>\n",
              "      <td>1</td>\n",
              "      <td>4</td>\n",
              "      <td>never</td>\n",
              "      <td>0</td>\n",
              "      <td>0</td>\n",
              "    </tr>\n",
              "    <tr>\n",
              "      <th>2</th>\n",
              "      <td>100</td>\n",
              "      <td>1673</td>\n",
              "      <td>286</td>\n",
              "      <td>136</td>\n",
              "      <td>4</td>\n",
              "      <td>white</td>\n",
              "      <td>25</td>\n",
              "      <td>2</td>\n",
              "      <td>62</td>\n",
              "      <td>93</td>\n",
              "      <td>white</td>\n",
              "      <td>28</td>\n",
              "      <td>2</td>\n",
              "      <td>64</td>\n",
              "      <td>130</td>\n",
              "      <td>1</td>\n",
              "      <td>4</td>\n",
              "      <td>until_pregnancy</td>\n",
              "      <td>2</td>\n",
              "      <td>2</td>\n",
              "    </tr>\n",
              "    <tr>\n",
              "      <th>3</th>\n",
              "      <td>129</td>\n",
              "      <td>1562</td>\n",
              "      <td>245</td>\n",
              "      <td>132</td>\n",
              "      <td>2</td>\n",
              "      <td>black</td>\n",
              "      <td>23</td>\n",
              "      <td>1</td>\n",
              "      <td>65</td>\n",
              "      <td>140</td>\n",
              "      <td>black</td>\n",
              "      <td>23</td>\n",
              "      <td>4</td>\n",
              "      <td>71</td>\n",
              "      <td>192</td>\n",
              "      <td>1</td>\n",
              "      <td>2</td>\n",
              "      <td>never</td>\n",
              "      <td>0</td>\n",
              "      <td>0</td>\n",
              "    </tr>\n",
              "    <tr>\n",
              "      <th>4</th>\n",
              "      <td>142</td>\n",
              "      <td>1408</td>\n",
              "      <td>289</td>\n",
              "      <td>120</td>\n",
              "      <td>3</td>\n",
              "      <td>white</td>\n",
              "      <td>25</td>\n",
              "      <td>4</td>\n",
              "      <td>62</td>\n",
              "      <td>125</td>\n",
              "      <td>white</td>\n",
              "      <td>26</td>\n",
              "      <td>1</td>\n",
              "      <td>70</td>\n",
              "      <td>180</td>\n",
              "      <td>0</td>\n",
              "      <td>2</td>\n",
              "      <td>never</td>\n",
              "      <td>0</td>\n",
              "      <td>0</td>\n",
              "    </tr>\n",
              "  </tbody>\n",
              "</table>\n",
              "</div>\n",
              "    <div class=\"colab-df-buttons\">\n",
              "\n",
              "  <div class=\"colab-df-container\">\n",
              "    <button class=\"colab-df-convert\" onclick=\"convertToInteractive('df-06ef5380-f56b-48cc-8b32-3751602d47cb')\"\n",
              "            title=\"Convert this dataframe to an interactive table.\"\n",
              "            style=\"display:none;\">\n",
              "\n",
              "  <svg xmlns=\"http://www.w3.org/2000/svg\" height=\"24px\" viewBox=\"0 -960 960 960\">\n",
              "    <path d=\"M120-120v-720h720v720H120Zm60-500h600v-160H180v160Zm220 220h160v-160H400v160Zm0 220h160v-160H400v160ZM180-400h160v-160H180v160Zm440 0h160v-160H620v160ZM180-180h160v-160H180v160Zm440 0h160v-160H620v160Z\"/>\n",
              "  </svg>\n",
              "    </button>\n",
              "\n",
              "  <style>\n",
              "    .colab-df-container {\n",
              "      display:flex;\n",
              "      gap: 12px;\n",
              "    }\n",
              "\n",
              "    .colab-df-convert {\n",
              "      background-color: #E8F0FE;\n",
              "      border: none;\n",
              "      border-radius: 50%;\n",
              "      cursor: pointer;\n",
              "      display: none;\n",
              "      fill: #1967D2;\n",
              "      height: 32px;\n",
              "      padding: 0 0 0 0;\n",
              "      width: 32px;\n",
              "    }\n",
              "\n",
              "    .colab-df-convert:hover {\n",
              "      background-color: #E2EBFA;\n",
              "      box-shadow: 0px 1px 2px rgba(60, 64, 67, 0.3), 0px 1px 3px 1px rgba(60, 64, 67, 0.15);\n",
              "      fill: #174EA6;\n",
              "    }\n",
              "\n",
              "    .colab-df-buttons div {\n",
              "      margin-bottom: 4px;\n",
              "    }\n",
              "\n",
              "    [theme=dark] .colab-df-convert {\n",
              "      background-color: #3B4455;\n",
              "      fill: #D2E3FC;\n",
              "    }\n",
              "\n",
              "    [theme=dark] .colab-df-convert:hover {\n",
              "      background-color: #434B5C;\n",
              "      box-shadow: 0px 1px 3px 1px rgba(0, 0, 0, 0.15);\n",
              "      filter: drop-shadow(0px 1px 2px rgba(0, 0, 0, 0.3));\n",
              "      fill: #FFFFFF;\n",
              "    }\n",
              "  </style>\n",
              "\n",
              "    <script>\n",
              "      const buttonEl =\n",
              "        document.querySelector('#df-06ef5380-f56b-48cc-8b32-3751602d47cb button.colab-df-convert');\n",
              "      buttonEl.style.display =\n",
              "        google.colab.kernel.accessAllowed ? 'block' : 'none';\n",
              "\n",
              "      async function convertToInteractive(key) {\n",
              "        const element = document.querySelector('#df-06ef5380-f56b-48cc-8b32-3751602d47cb');\n",
              "        const dataTable =\n",
              "          await google.colab.kernel.invokeFunction('convertToInteractive',\n",
              "                                                    [key], {});\n",
              "        if (!dataTable) return;\n",
              "\n",
              "        const docLinkHtml = 'Like what you see? Visit the ' +\n",
              "          '<a target=\"_blank\" href=https://colab.research.google.com/notebooks/data_table.ipynb>data table notebook</a>'\n",
              "          + ' to learn more about interactive tables.';\n",
              "        element.innerHTML = '';\n",
              "        dataTable['output_type'] = 'display_data';\n",
              "        await google.colab.output.renderOutput(dataTable, element);\n",
              "        const docLink = document.createElement('div');\n",
              "        docLink.innerHTML = docLinkHtml;\n",
              "        element.appendChild(docLink);\n",
              "      }\n",
              "    </script>\n",
              "  </div>\n",
              "\n",
              "\n",
              "<div id=\"df-d4cf43f4-cc8a-4418-b3aa-8ca6d86ed07d\">\n",
              "  <button class=\"colab-df-quickchart\" onclick=\"quickchart('df-d4cf43f4-cc8a-4418-b3aa-8ca6d86ed07d')\"\n",
              "            title=\"Suggest charts\"\n",
              "            style=\"display:none;\">\n",
              "\n",
              "<svg xmlns=\"http://www.w3.org/2000/svg\" height=\"24px\"viewBox=\"0 0 24 24\"\n",
              "     width=\"24px\">\n",
              "    <g>\n",
              "        <path d=\"M19 3H5c-1.1 0-2 .9-2 2v14c0 1.1.9 2 2 2h14c1.1 0 2-.9 2-2V5c0-1.1-.9-2-2-2zM9 17H7v-7h2v7zm4 0h-2V7h2v10zm4 0h-2v-4h2v4z\"/>\n",
              "    </g>\n",
              "</svg>\n",
              "  </button>\n",
              "\n",
              "<style>\n",
              "  .colab-df-quickchart {\n",
              "      --bg-color: #E8F0FE;\n",
              "      --fill-color: #1967D2;\n",
              "      --hover-bg-color: #E2EBFA;\n",
              "      --hover-fill-color: #174EA6;\n",
              "      --disabled-fill-color: #AAA;\n",
              "      --disabled-bg-color: #DDD;\n",
              "  }\n",
              "\n",
              "  [theme=dark] .colab-df-quickchart {\n",
              "      --bg-color: #3B4455;\n",
              "      --fill-color: #D2E3FC;\n",
              "      --hover-bg-color: #434B5C;\n",
              "      --hover-fill-color: #FFFFFF;\n",
              "      --disabled-bg-color: #3B4455;\n",
              "      --disabled-fill-color: #666;\n",
              "  }\n",
              "\n",
              "  .colab-df-quickchart {\n",
              "    background-color: var(--bg-color);\n",
              "    border: none;\n",
              "    border-radius: 50%;\n",
              "    cursor: pointer;\n",
              "    display: none;\n",
              "    fill: var(--fill-color);\n",
              "    height: 32px;\n",
              "    padding: 0;\n",
              "    width: 32px;\n",
              "  }\n",
              "\n",
              "  .colab-df-quickchart:hover {\n",
              "    background-color: var(--hover-bg-color);\n",
              "    box-shadow: 0 1px 2px rgba(60, 64, 67, 0.3), 0 1px 3px 1px rgba(60, 64, 67, 0.15);\n",
              "    fill: var(--button-hover-fill-color);\n",
              "  }\n",
              "\n",
              "  .colab-df-quickchart-complete:disabled,\n",
              "  .colab-df-quickchart-complete:disabled:hover {\n",
              "    background-color: var(--disabled-bg-color);\n",
              "    fill: var(--disabled-fill-color);\n",
              "    box-shadow: none;\n",
              "  }\n",
              "\n",
              "  .colab-df-spinner {\n",
              "    border: 2px solid var(--fill-color);\n",
              "    border-color: transparent;\n",
              "    border-bottom-color: var(--fill-color);\n",
              "    animation:\n",
              "      spin 1s steps(1) infinite;\n",
              "  }\n",
              "\n",
              "  @keyframes spin {\n",
              "    0% {\n",
              "      border-color: transparent;\n",
              "      border-bottom-color: var(--fill-color);\n",
              "      border-left-color: var(--fill-color);\n",
              "    }\n",
              "    20% {\n",
              "      border-color: transparent;\n",
              "      border-left-color: var(--fill-color);\n",
              "      border-top-color: var(--fill-color);\n",
              "    }\n",
              "    30% {\n",
              "      border-color: transparent;\n",
              "      border-left-color: var(--fill-color);\n",
              "      border-top-color: var(--fill-color);\n",
              "      border-right-color: var(--fill-color);\n",
              "    }\n",
              "    40% {\n",
              "      border-color: transparent;\n",
              "      border-right-color: var(--fill-color);\n",
              "      border-top-color: var(--fill-color);\n",
              "    }\n",
              "    60% {\n",
              "      border-color: transparent;\n",
              "      border-right-color: var(--fill-color);\n",
              "    }\n",
              "    80% {\n",
              "      border-color: transparent;\n",
              "      border-right-color: var(--fill-color);\n",
              "      border-bottom-color: var(--fill-color);\n",
              "    }\n",
              "    90% {\n",
              "      border-color: transparent;\n",
              "      border-bottom-color: var(--fill-color);\n",
              "    }\n",
              "  }\n",
              "</style>\n",
              "\n",
              "  <script>\n",
              "    async function quickchart(key) {\n",
              "      const quickchartButtonEl =\n",
              "        document.querySelector('#' + key + ' button');\n",
              "      quickchartButtonEl.disabled = true;  // To prevent multiple clicks.\n",
              "      quickchartButtonEl.classList.add('colab-df-spinner');\n",
              "      try {\n",
              "        const charts = await google.colab.kernel.invokeFunction(\n",
              "            'suggestCharts', [key], {});\n",
              "      } catch (error) {\n",
              "        console.error('Error during call to suggestCharts:', error);\n",
              "      }\n",
              "      quickchartButtonEl.classList.remove('colab-df-spinner');\n",
              "      quickchartButtonEl.classList.add('colab-df-quickchart-complete');\n",
              "    }\n",
              "    (() => {\n",
              "      let quickchartButtonEl =\n",
              "        document.querySelector('#df-d4cf43f4-cc8a-4418-b3aa-8ca6d86ed07d button');\n",
              "      quickchartButtonEl.style.display =\n",
              "        google.colab.kernel.accessAllowed ? 'block' : 'none';\n",
              "    })();\n",
              "  </script>\n",
              "</div>\n",
              "\n",
              "    </div>\n",
              "  </div>\n"
            ],
            "application/vnd.google.colaboratory.intrinsic+json": {
              "type": "dataframe",
              "variable_name": "df",
              "summary": "{\n  \"name\": \"df\",\n  \"rows\": 610,\n  \"fields\": [\n    {\n      \"column\": \"id\",\n      \"properties\": {\n        \"dtype\": \"number\",\n        \"std\": 2357,\n        \"min\": 15,\n        \"max\": 9263,\n        \"num_unique_values\": 610,\n        \"samples\": [\n          2697,\n          6256,\n          1617\n        ],\n        \"semantic_type\": \"\",\n        \"description\": \"\"\n      }\n    },\n    {\n      \"column\": \"date\",\n      \"properties\": {\n        \"dtype\": \"number\",\n        \"std\": 105,\n        \"min\": 1350,\n        \"max\": 1714,\n        \"num_unique_values\": 305,\n        \"samples\": [\n          1512,\n          1448,\n          1366\n        ],\n        \"semantic_type\": \"\",\n        \"description\": \"\"\n      }\n    },\n    {\n      \"column\": \"gestation\",\n      \"properties\": {\n        \"dtype\": \"number\",\n        \"std\": 15,\n        \"min\": 148,\n        \"max\": 338,\n        \"num_unique_values\": 84,\n        \"samples\": [\n          228,\n          284,\n          304\n        ],\n        \"semantic_type\": \"\",\n        \"description\": \"\"\n      }\n    },\n    {\n      \"column\": \"weight\",\n      \"properties\": {\n        \"dtype\": \"number\",\n        \"std\": 18,\n        \"min\": 55,\n        \"max\": 174,\n        \"num_unique_values\": 95,\n        \"samples\": [\n          98,\n          143,\n          174\n        ],\n        \"semantic_type\": \"\",\n        \"description\": \"\"\n      }\n    },\n    {\n      \"column\": \"parity\",\n      \"properties\": {\n        \"dtype\": \"number\",\n        \"std\": 1,\n        \"min\": 0,\n        \"max\": 11,\n        \"num_unique_values\": 11,\n        \"samples\": [\n          10,\n          1,\n          9\n        ],\n        \"semantic_type\": \"\",\n        \"description\": \"\"\n      }\n    },\n    {\n      \"column\": \"mom.race\",\n      \"properties\": {\n        \"dtype\": \"category\",\n        \"num_unique_values\": 5,\n        \"samples\": [\n          \"white\",\n          \"mixed\",\n          \"black\"\n        ],\n        \"semantic_type\": \"\",\n        \"description\": \"\"\n      }\n    },\n    {\n      \"column\": \"mom.age\",\n      \"properties\": {\n        \"dtype\": \"number\",\n        \"std\": 5,\n        \"min\": 15,\n        \"max\": 43,\n        \"num_unique_values\": 28,\n        \"samples\": [\n          28,\n          41,\n          26\n        ],\n        \"semantic_type\": \"\",\n        \"description\": \"\"\n      }\n    },\n    {\n      \"column\": \"mom.edu\",\n      \"properties\": {\n        \"dtype\": \"number\",\n        \"std\": 1,\n        \"min\": 0,\n        \"max\": 5,\n        \"num_unique_values\": 6,\n        \"samples\": [\n          5,\n          2,\n          3\n        ],\n        \"semantic_type\": \"\",\n        \"description\": \"\"\n      }\n    },\n    {\n      \"column\": \"mom.height\",\n      \"properties\": {\n        \"dtype\": \"number\",\n        \"std\": 2,\n        \"min\": 54,\n        \"max\": 72,\n        \"num_unique_values\": 16,\n        \"samples\": [\n          62,\n          64,\n          66\n        ],\n        \"semantic_type\": \"\",\n        \"description\": \"\"\n      }\n    },\n    {\n      \"column\": \"mom.weight\",\n      \"properties\": {\n        \"dtype\": \"number\",\n        \"std\": 20,\n        \"min\": 87,\n        \"max\": 220,\n        \"num_unique_values\": 89,\n        \"samples\": [\n          121,\n          136,\n          110\n        ],\n        \"semantic_type\": \"\",\n        \"description\": \"\"\n      }\n    },\n    {\n      \"column\": \"dad.race\",\n      \"properties\": {\n        \"dtype\": \"category\",\n        \"num_unique_values\": 5,\n        \"samples\": [\n          \"white\",\n          \"mexican\",\n          \"black\"\n        ],\n        \"semantic_type\": \"\",\n        \"description\": \"\"\n      }\n    },\n    {\n      \"column\": \"dad.age\",\n      \"properties\": {\n        \"dtype\": \"number\",\n        \"std\": 6,\n        \"min\": 18,\n        \"max\": 53,\n        \"num_unique_values\": 36,\n        \"samples\": [\n          50,\n          40,\n          39\n        ],\n        \"semantic_type\": \"\",\n        \"description\": \"\"\n      }\n    },\n    {\n      \"column\": \"dad.edu\",\n      \"properties\": {\n        \"dtype\": \"number\",\n        \"std\": 1,\n        \"min\": 0,\n        \"max\": 7,\n        \"num_unique_values\": 8,\n        \"samples\": [\n          2,\n          3,\n          5\n        ],\n        \"semantic_type\": \"\",\n        \"description\": \"\"\n      }\n    },\n    {\n      \"column\": \"dad.height\",\n      \"properties\": {\n        \"dtype\": \"number\",\n        \"std\": 2,\n        \"min\": 60,\n        \"max\": 78,\n        \"num_unique_values\": 18,\n        \"samples\": [\n          65,\n          70,\n          66\n        ],\n        \"semantic_type\": \"\",\n        \"description\": \"\"\n      }\n    },\n    {\n      \"column\": \"dad.weight\",\n      \"properties\": {\n        \"dtype\": \"number\",\n        \"std\": 22,\n        \"min\": 110,\n        \"max\": 260,\n        \"num_unique_values\": 81,\n        \"samples\": [\n          158,\n          110,\n          175\n        ],\n        \"semantic_type\": \"\",\n        \"description\": \"\"\n      }\n    },\n    {\n      \"column\": \"marital\",\n      \"properties\": {\n        \"dtype\": \"number\",\n        \"std\": 0,\n        \"min\": 0,\n        \"max\": 5,\n        \"num_unique_values\": 5,\n        \"samples\": [\n          0,\n          3,\n          2\n        ],\n        \"semantic_type\": \"\",\n        \"description\": \"\"\n      }\n    },\n    {\n      \"column\": \"income\",\n      \"properties\": {\n        \"dtype\": \"number\",\n        \"std\": 2,\n        \"min\": 0,\n        \"max\": 9,\n        \"num_unique_values\": 10,\n        \"samples\": [\n          9,\n          4,\n          6\n        ],\n        \"semantic_type\": \"\",\n        \"description\": \"\"\n      }\n    },\n    {\n      \"column\": \"smoke\",\n      \"properties\": {\n        \"dtype\": \"category\",\n        \"num_unique_values\": 4,\n        \"samples\": [\n          \"until_pregnancy\",\n          \"once_not_now\",\n          \"never\"\n        ],\n        \"semantic_type\": \"\",\n        \"description\": \"\"\n      }\n    },\n    {\n      \"column\": \"quit.time\",\n      \"properties\": {\n        \"dtype\": \"number\",\n        \"std\": 1,\n        \"min\": 0,\n        \"max\": 9,\n        \"num_unique_values\": 10,\n        \"samples\": [\n          8,\n          2,\n          6\n        ],\n        \"semantic_type\": \"\",\n        \"description\": \"\"\n      }\n    },\n    {\n      \"column\": \"cigs\",\n      \"properties\": {\n        \"dtype\": \"number\",\n        \"std\": 2,\n        \"min\": 0,\n        \"max\": 9,\n        \"num_unique_values\": 9,\n        \"samples\": [\n          3,\n          2,\n          9\n        ],\n        \"semantic_type\": \"\",\n        \"description\": \"\"\n      }\n    }\n  ]\n}"
            }
          },
          "metadata": {},
          "execution_count": 3
        }
      ]
    },
    {
      "cell_type": "markdown",
      "metadata": {
        "id": "LgJsKCFJcvgx"
      },
      "source": [
        "---"
      ]
    },
    {
      "cell_type": "markdown",
      "source": [
        "## Q1. How many unique entries are in the following categorical column (`mom.race` and `smoke`)?"
      ],
      "metadata": {
        "id": "2b-qTMJ0jpwG"
      }
    },
    {
      "cell_type": "code",
      "source": [],
      "metadata": {
        "id": "hCl-ezz-jsV0"
      },
      "execution_count": 3,
      "outputs": []
    },
    {
      "cell_type": "markdown",
      "source": [
        "---"
      ],
      "metadata": {
        "id": "CNMa_jCYjt7z"
      }
    },
    {
      "cell_type": "markdown",
      "source": [
        "## Q2. What are the average ages of mothers and fathers in the dataset?"
      ],
      "metadata": {
        "id": "w1bkcS-3jvaN"
      }
    },
    {
      "cell_type": "code",
      "source": [],
      "metadata": {
        "id": "fBJFH7WWjzC8"
      },
      "execution_count": 3,
      "outputs": []
    },
    {
      "cell_type": "markdown",
      "source": [
        "---"
      ],
      "metadata": {
        "id": "uPdBTJymjzjJ"
      }
    },
    {
      "cell_type": "markdown",
      "source": [
        "## Q3. What percentage of mothers never smoked, smoked until pregnancy, or smoked throughout?"
      ],
      "metadata": {
        "id": "xK978R0Yj00E"
      }
    },
    {
      "cell_type": "code",
      "source": [],
      "metadata": {
        "id": "m2npeY_Ej5Fa"
      },
      "execution_count": 3,
      "outputs": []
    },
    {
      "cell_type": "markdown",
      "source": [
        "---"
      ],
      "metadata": {
        "id": "X4Vk7HlRj5YA"
      }
    },
    {
      "cell_type": "markdown",
      "source": [
        "## Q4. What is the average number of cigarettes smoked per day among mothers who smoked throughout their pregnancy?"
      ],
      "metadata": {
        "id": "YDPhSfGmj9bk"
      }
    },
    {
      "cell_type": "code",
      "source": [],
      "metadata": {
        "id": "9CLFIY41kAVt"
      },
      "execution_count": 3,
      "outputs": []
    },
    {
      "cell_type": "markdown",
      "source": [
        "---"
      ],
      "metadata": {
        "id": "Xyc8pFEfkBBj"
      }
    },
    {
      "cell_type": "markdown",
      "source": [
        "## Q5. Show the distribution of newborns' weights."
      ],
      "metadata": {
        "id": "wLqHVqUPkElt"
      }
    },
    {
      "cell_type": "code",
      "source": [],
      "metadata": {
        "id": "88YeTu4xkGu9"
      },
      "execution_count": 3,
      "outputs": []
    },
    {
      "cell_type": "markdown",
      "source": [
        "---"
      ],
      "metadata": {
        "id": "Jg5ugaEJkHVj"
      }
    },
    {
      "cell_type": "markdown",
      "metadata": {
        "id": "YEvzA3RdX9BD"
      },
      "source": [
        "## Q6. Does the mom's smoking pattern affect the newborn birth weight?"
      ]
    },
    {
      "cell_type": "code",
      "source": [],
      "metadata": {
        "id": "OP4pGVZHepCw"
      },
      "execution_count": 3,
      "outputs": []
    },
    {
      "cell_type": "markdown",
      "metadata": {
        "id": "TvshlzSBcvgz"
      },
      "source": [
        "---"
      ]
    },
    {
      "cell_type": "markdown",
      "metadata": {
        "id": "ES5mZnyhYQ-5"
      },
      "source": [
        "## Q7. Does the mom’s race affect the newborn birth weight?\n"
      ]
    },
    {
      "cell_type": "code",
      "source": [],
      "metadata": {
        "id": "ouXGXQjLepcS"
      },
      "execution_count": 3,
      "outputs": []
    },
    {
      "cell_type": "markdown",
      "metadata": {
        "id": "6fzHK2CQcvg1"
      },
      "source": [
        "---"
      ]
    },
    {
      "cell_type": "markdown",
      "metadata": {
        "id": "3GVJ6vVTYai-"
      },
      "source": [
        "## Q8. Is there a correlation between the mom’s weight and the baby’s weight?"
      ]
    },
    {
      "cell_type": "code",
      "source": [],
      "metadata": {
        "id": "-xxmrfxieqA5"
      },
      "execution_count": 3,
      "outputs": []
    },
    {
      "cell_type": "markdown",
      "metadata": {
        "id": "aGao5ffRcvg2"
      },
      "source": [
        "---"
      ]
    },
    {
      "cell_type": "markdown",
      "source": [
        "## Q9. Is there a correlation between the dad’s weight and the baby’s weight?"
      ],
      "metadata": {
        "id": "EXGpoZMIeNpc"
      }
    },
    {
      "cell_type": "code",
      "source": [],
      "metadata": {
        "id": "0h4KmSMSeoNN"
      },
      "execution_count": 3,
      "outputs": []
    },
    {
      "cell_type": "markdown",
      "source": [
        "---"
      ],
      "metadata": {
        "id": "MyTY34VMemsG"
      }
    },
    {
      "cell_type": "markdown",
      "source": [
        "## Q10. From Q3 and Q4, which is a stronger correlation?"
      ],
      "metadata": {
        "id": "YdaS20ZIe2FP"
      }
    },
    {
      "cell_type": "code",
      "source": [],
      "metadata": {
        "id": "w_PuW3TDe4Le"
      },
      "execution_count": 3,
      "outputs": []
    },
    {
      "cell_type": "markdown",
      "source": [
        "---"
      ],
      "metadata": {
        "id": "3F2-DULNe4ZF"
      }
    },
    {
      "cell_type": "markdown",
      "source": [
        "## Q11. Is there a correlation between the mom’s weight and the dad’s weight?"
      ],
      "metadata": {
        "id": "IJ6zptE8e_lQ"
      }
    },
    {
      "cell_type": "code",
      "source": [],
      "metadata": {
        "id": "q4JeAAHofClY"
      },
      "execution_count": 3,
      "outputs": []
    },
    {
      "cell_type": "markdown",
      "source": [
        "---"
      ],
      "metadata": {
        "id": "gfxvchCPfC6n"
      }
    },
    {
      "cell_type": "markdown",
      "metadata": {
        "id": "E_lPDmPzjBQ1"
      },
      "source": [
        "## Q12. On average, does the mom’s weight change across the races?"
      ]
    },
    {
      "cell_type": "code",
      "source": [],
      "metadata": {
        "id": "clZhmh8aeqsc"
      },
      "execution_count": 3,
      "outputs": []
    },
    {
      "cell_type": "markdown",
      "metadata": {
        "id": "yMiJQ-dKcvg8"
      },
      "source": [
        "---"
      ]
    },
    {
      "cell_type": "markdown",
      "metadata": {
        "id": "HC-CTen2ys_V"
      },
      "source": [
        "## Q13. Does mom’s smoking pattern change with the mom’s education?"
      ]
    },
    {
      "cell_type": "code",
      "source": [],
      "metadata": {
        "id": "VTx1KDrIerLj"
      },
      "execution_count": 3,
      "outputs": []
    },
    {
      "cell_type": "markdown",
      "metadata": {
        "id": "YEMR10-lcvg-"
      },
      "source": [
        "---"
      ]
    },
    {
      "cell_type": "markdown",
      "metadata": {
        "id": "F0b6FIXnjHS4"
      },
      "source": [
        "## Q14. Does mom’s smoking pattern change with the family income?"
      ]
    },
    {
      "cell_type": "code",
      "source": [],
      "metadata": {
        "id": "T-YaDYPveriR"
      },
      "execution_count": 3,
      "outputs": []
    },
    {
      "cell_type": "markdown",
      "metadata": {
        "id": "3jQp5mZNcvg-"
      },
      "source": [
        "---"
      ]
    },
    {
      "cell_type": "markdown",
      "metadata": {
        "id": "O6T5rtvejLUx"
      },
      "source": [
        "## Q15. Is there a relationship between the mom’s race and the dad’s race?"
      ]
    },
    {
      "cell_type": "code",
      "source": [],
      "metadata": {
        "id": "bBWdojnoesl5"
      },
      "execution_count": 3,
      "outputs": []
    },
    {
      "cell_type": "markdown",
      "source": [
        "---"
      ],
      "metadata": {
        "id": "5j0ibvdtes8J"
      }
    }
  ],
  "metadata": {
    "colab": {
      "provenance": [],
      "include_colab_link": true
    },
    "kernelspec": {
      "display_name": "Python 3 (ipykernel)",
      "language": "python",
      "name": "python3"
    },
    "language_info": {
      "codemirror_mode": {
        "name": "ipython",
        "version": 3
      },
      "file_extension": ".py",
      "mimetype": "text/x-python",
      "name": "python",
      "nbconvert_exporter": "python",
      "pygments_lexer": "ipython3",
      "version": "3.11.1"
    }
  },
  "nbformat": 4,
  "nbformat_minor": 0
}