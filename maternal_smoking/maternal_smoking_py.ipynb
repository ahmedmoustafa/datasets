{
  "cells": [
    {
      "cell_type": "markdown",
      "metadata": {
        "id": "view-in-github",
        "colab_type": "text"
      },
      "source": [
        "<a href=\"https://colab.research.google.com/github/ahmedmoustafa/datasets/blob/main/maternal_smoking/maternal_smoking_py.ipynb\" target=\"_parent\"><img src=\"https://colab.research.google.com/assets/colab-badge.svg\" alt=\"Open In Colab\"/></a>"
      ]
    },
    {
      "cell_type": "markdown",
      "metadata": {
        "id": "aBg1rOzmEkmp"
      },
      "source": [
        "# Maternal Smoking"
      ]
    },
    {
      "cell_type": "markdown",
      "metadata": {
        "id": "9S7e6shIcvgs"
      },
      "source": [
        "First, we need to import the packages (libraries) that will be used in the analysis: [Pandas](https://pandas.pydata.org/) for data loading and wrangling, and [Seaborn](https://seaborn.pydata.org/) for data visualization."
      ]
    },
    {
      "cell_type": "code",
      "execution_count": 1,
      "metadata": {
        "id": "xuhWjeg7EeWk"
      },
      "outputs": [],
      "source": [
        "import pandas as pd # Import the pandas package using the alias 'pd'\n",
        "import seaborn as sns # Import the seaborn package using the alias 'sns'"
      ]
    },
    {
      "cell_type": "markdown",
      "metadata": {
        "id": "ah8ZcK4Mcvgu"
      },
      "source": [
        "Now, we can easily access the data from an online [`TSV`](https://en.wikipedia.org/wiki/Tab-separated_values) file using Pandas' [read_table()](https://pandas.pydata.org/docs/reference/api/pandas.read_table.html) function. Before moving forward, you may want to open and examine the data file at this link: [https://raw.githubusercontent.com/ahmedmoustafa/datasets/refs/heads/main/maternal_smoking/smoking.tsv](https://raw.githubusercontent.com/ahmedmoustafa/datasets/refs/heads/main/maternal_smoking/smoking.tsv). This will help you gain a better understanding of the data's structure and content."
      ]
    },
    {
      "cell_type": "code",
      "execution_count": 2,
      "metadata": {
        "colab": {
          "base_uri": "https://localhost:8080/"
        },
        "id": "lwP2QUWcE-qG",
        "outputId": "b7dff0e2-ee21-419e-c481-a1755f1e8f18"
      },
      "outputs": [
        {
          "output_type": "execute_result",
          "data": {
            "text/plain": [
              "(610, 1)"
            ]
          },
          "metadata": {},
          "execution_count": 2
        }
      ],
      "source": [
        " # Read and load the tsv data file into a pandas DataFrame\n",
        "df = pd.read_csv(\"https://raw.githubusercontent.com/ahmedmoustafa/datasets/refs/heads/main/maternal_smoking/smoking.tsv\")\n",
        "df.shape"
      ]
    },
    {
      "cell_type": "markdown",
      "metadata": {
        "id": "LgJsKCFJcvgx"
      },
      "source": [
        "---"
      ]
    },
    {
      "cell_type": "markdown",
      "source": [
        "## Q1. How many unique entries are in the following categorical column (`mom.race` and `smoke`)?"
      ],
      "metadata": {
        "id": "2b-qTMJ0jpwG"
      }
    },
    {
      "cell_type": "code",
      "source": [],
      "metadata": {
        "id": "hCl-ezz-jsV0"
      },
      "execution_count": 2,
      "outputs": []
    },
    {
      "cell_type": "markdown",
      "source": [
        "---"
      ],
      "metadata": {
        "id": "CNMa_jCYjt7z"
      }
    },
    {
      "cell_type": "markdown",
      "source": [
        "## Q2. What are the average ages of mothers and fathers in the dataset?"
      ],
      "metadata": {
        "id": "w1bkcS-3jvaN"
      }
    },
    {
      "cell_type": "code",
      "source": [],
      "metadata": {
        "id": "fBJFH7WWjzC8"
      },
      "execution_count": 2,
      "outputs": []
    },
    {
      "cell_type": "markdown",
      "source": [
        "---"
      ],
      "metadata": {
        "id": "uPdBTJymjzjJ"
      }
    },
    {
      "cell_type": "markdown",
      "source": [
        "## Q3. What percentage of mothers never smoked, smoked until pregnancy, or smoked throughout?"
      ],
      "metadata": {
        "id": "xK978R0Yj00E"
      }
    },
    {
      "cell_type": "code",
      "source": [],
      "metadata": {
        "id": "m2npeY_Ej5Fa"
      },
      "execution_count": 2,
      "outputs": []
    },
    {
      "cell_type": "markdown",
      "source": [
        "---"
      ],
      "metadata": {
        "id": "X4Vk7HlRj5YA"
      }
    },
    {
      "cell_type": "markdown",
      "source": [
        "## Q4. What is the average number of cigarettes smoked per day among mothers who smoked throughout their pregnancy?"
      ],
      "metadata": {
        "id": "YDPhSfGmj9bk"
      }
    },
    {
      "cell_type": "code",
      "source": [],
      "metadata": {
        "id": "9CLFIY41kAVt"
      },
      "execution_count": 2,
      "outputs": []
    },
    {
      "cell_type": "markdown",
      "source": [
        "---"
      ],
      "metadata": {
        "id": "Xyc8pFEfkBBj"
      }
    },
    {
      "cell_type": "markdown",
      "source": [
        "## Q5. Show the distribution of newborns' weights."
      ],
      "metadata": {
        "id": "wLqHVqUPkElt"
      }
    },
    {
      "cell_type": "code",
      "source": [],
      "metadata": {
        "id": "88YeTu4xkGu9"
      },
      "execution_count": 2,
      "outputs": []
    },
    {
      "cell_type": "markdown",
      "source": [
        "---"
      ],
      "metadata": {
        "id": "Jg5ugaEJkHVj"
      }
    },
    {
      "cell_type": "markdown",
      "metadata": {
        "id": "YEvzA3RdX9BD"
      },
      "source": [
        "## Q6. Does the mom's smoking pattern affect the newborn birth weight?"
      ]
    },
    {
      "cell_type": "code",
      "source": [],
      "metadata": {
        "id": "OP4pGVZHepCw"
      },
      "execution_count": 2,
      "outputs": []
    },
    {
      "cell_type": "markdown",
      "metadata": {
        "id": "TvshlzSBcvgz"
      },
      "source": [
        "---"
      ]
    },
    {
      "cell_type": "markdown",
      "metadata": {
        "id": "ES5mZnyhYQ-5"
      },
      "source": [
        "## Q7. Does the mom’s race affect the newborn birth weight?\n"
      ]
    },
    {
      "cell_type": "code",
      "source": [],
      "metadata": {
        "id": "ouXGXQjLepcS"
      },
      "execution_count": 2,
      "outputs": []
    },
    {
      "cell_type": "markdown",
      "metadata": {
        "id": "6fzHK2CQcvg1"
      },
      "source": [
        "---"
      ]
    },
    {
      "cell_type": "markdown",
      "metadata": {
        "id": "3GVJ6vVTYai-"
      },
      "source": [
        "## Q8. Is there a correlation between the mom’s weight and the baby’s weight?"
      ]
    },
    {
      "cell_type": "code",
      "source": [],
      "metadata": {
        "id": "-xxmrfxieqA5"
      },
      "execution_count": 2,
      "outputs": []
    },
    {
      "cell_type": "markdown",
      "metadata": {
        "id": "aGao5ffRcvg2"
      },
      "source": [
        "---"
      ]
    },
    {
      "cell_type": "markdown",
      "source": [
        "## Q9. Is there a correlation between the dad’s weight and the baby’s weight?"
      ],
      "metadata": {
        "id": "EXGpoZMIeNpc"
      }
    },
    {
      "cell_type": "code",
      "source": [],
      "metadata": {
        "id": "0h4KmSMSeoNN"
      },
      "execution_count": 2,
      "outputs": []
    },
    {
      "cell_type": "markdown",
      "source": [
        "---"
      ],
      "metadata": {
        "id": "MyTY34VMemsG"
      }
    },
    {
      "cell_type": "markdown",
      "source": [
        "## Q10. From Q3 and Q4, which is a stronger correlation?"
      ],
      "metadata": {
        "id": "YdaS20ZIe2FP"
      }
    },
    {
      "cell_type": "code",
      "source": [],
      "metadata": {
        "id": "w_PuW3TDe4Le"
      },
      "execution_count": 2,
      "outputs": []
    },
    {
      "cell_type": "markdown",
      "source": [
        "---"
      ],
      "metadata": {
        "id": "3F2-DULNe4ZF"
      }
    },
    {
      "cell_type": "markdown",
      "source": [
        "## Q11. Is there a correlation between the mom’s weight and the dad’s weight?"
      ],
      "metadata": {
        "id": "IJ6zptE8e_lQ"
      }
    },
    {
      "cell_type": "code",
      "source": [],
      "metadata": {
        "id": "q4JeAAHofClY"
      },
      "execution_count": 2,
      "outputs": []
    },
    {
      "cell_type": "markdown",
      "source": [
        "---"
      ],
      "metadata": {
        "id": "gfxvchCPfC6n"
      }
    },
    {
      "cell_type": "markdown",
      "metadata": {
        "id": "E_lPDmPzjBQ1"
      },
      "source": [
        "## Q12. On average, does the mom’s weight change across the races?"
      ]
    },
    {
      "cell_type": "code",
      "source": [],
      "metadata": {
        "id": "clZhmh8aeqsc"
      },
      "execution_count": 2,
      "outputs": []
    },
    {
      "cell_type": "markdown",
      "metadata": {
        "id": "yMiJQ-dKcvg8"
      },
      "source": [
        "---"
      ]
    },
    {
      "cell_type": "markdown",
      "metadata": {
        "id": "HC-CTen2ys_V"
      },
      "source": [
        "## Q13. Does mom’s smoking pattern change with the mom’s education?"
      ]
    },
    {
      "cell_type": "code",
      "source": [],
      "metadata": {
        "id": "VTx1KDrIerLj"
      },
      "execution_count": 2,
      "outputs": []
    },
    {
      "cell_type": "markdown",
      "metadata": {
        "id": "YEMR10-lcvg-"
      },
      "source": [
        "---"
      ]
    },
    {
      "cell_type": "markdown",
      "metadata": {
        "id": "F0b6FIXnjHS4"
      },
      "source": [
        "## Q14. Does mom’s smoking pattern change with the family income?"
      ]
    },
    {
      "cell_type": "code",
      "source": [],
      "metadata": {
        "id": "T-YaDYPveriR"
      },
      "execution_count": 2,
      "outputs": []
    },
    {
      "cell_type": "markdown",
      "metadata": {
        "id": "3jQp5mZNcvg-"
      },
      "source": [
        "---"
      ]
    },
    {
      "cell_type": "markdown",
      "metadata": {
        "id": "O6T5rtvejLUx"
      },
      "source": [
        "## Q15. Is there a relationship between the mom’s race and the dad’s race?"
      ]
    },
    {
      "cell_type": "code",
      "source": [],
      "metadata": {
        "id": "bBWdojnoesl5"
      },
      "execution_count": 2,
      "outputs": []
    },
    {
      "cell_type": "markdown",
      "source": [
        "---"
      ],
      "metadata": {
        "id": "5j0ibvdtes8J"
      }
    }
  ],
  "metadata": {
    "colab": {
      "provenance": [],
      "include_colab_link": true
    },
    "kernelspec": {
      "display_name": "Python 3 (ipykernel)",
      "language": "python",
      "name": "python3"
    },
    "language_info": {
      "codemirror_mode": {
        "name": "ipython",
        "version": 3
      },
      "file_extension": ".py",
      "mimetype": "text/x-python",
      "name": "python",
      "nbconvert_exporter": "python",
      "pygments_lexer": "ipython3",
      "version": "3.11.1"
    }
  },
  "nbformat": 4,
  "nbformat_minor": 0
}