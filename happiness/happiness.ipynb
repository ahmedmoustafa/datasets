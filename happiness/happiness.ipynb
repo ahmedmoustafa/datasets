{
  "nbformat": 4,
  "nbformat_minor": 0,
  "metadata": {
    "colab": {
      "provenance": [],
      "authorship_tag": "ABX9TyMZqe9hZMZT5Ey8cDPOMOGs",
      "include_colab_link": true
    },
    "kernelspec": {
      "name": "ir",
      "display_name": "R"
    },
    "language_info": {
      "name": "R"
    }
  },
  "cells": [
    {
      "cell_type": "markdown",
      "metadata": {
        "id": "view-in-github",
        "colab_type": "text"
      },
      "source": [
        "<a href=\"https://colab.research.google.com/github/ahmedmoustafa/datasets/blob/main/happiness/happiness.ipynb\" target=\"_parent\"><img src=\"https://colab.research.google.com/assets/colab-badge.svg\" alt=\"Open In Colab\"/></a>"
      ]
    },
    {
      "cell_type": "markdown",
      "source": [
        "# The World Happiness 2019"
      ],
      "metadata": {
        "id": "w8L5am6jLSc5"
      }
    },
    {
      "cell_type": "code",
      "source": [
        "df = read.csv(\"https://raw.githubusercontent.com/ahmedmoustafa/datasets/main/happiness/happiness2019.csv\")\n",
        "head(df)"
      ],
      "metadata": {
        "colab": {
          "base_uri": "https://localhost:8080/",
          "height": 286
        },
        "id": "xvHFGyLQLS37",
        "outputId": "24e916f8-d3c4-4792-d158-f45818652660"
      },
      "execution_count": 1,
      "outputs": [
        {
          "output_type": "display_data",
          "data": {
            "text/html": [
              "<table class=\"dataframe\">\n",
              "<caption>A data.frame: 6 × 9</caption>\n",
              "<thead>\n",
              "\t<tr><th></th><th scope=col>country</th><th scope=col>category</th><th scope=col>score</th><th scope=col>gdp_per_capita</th><th scope=col>social_support</th><th scope=col>healthy_life_expectancy</th><th scope=col>freedom_to_make_life_choices</th><th scope=col>generosity</th><th scope=col>perceptions_of_corruption</th></tr>\n",
              "\t<tr><th></th><th scope=col>&lt;chr&gt;</th><th scope=col>&lt;chr&gt;</th><th scope=col>&lt;dbl&gt;</th><th scope=col>&lt;dbl&gt;</th><th scope=col>&lt;dbl&gt;</th><th scope=col>&lt;dbl&gt;</th><th scope=col>&lt;dbl&gt;</th><th scope=col>&lt;dbl&gt;</th><th scope=col>&lt;dbl&gt;</th></tr>\n",
              "</thead>\n",
              "<tbody>\n",
              "\t<tr><th scope=row>1</th><td>Finland    </td><td>Developed</td><td>7.769</td><td>1.340</td><td>1.587</td><td>0.986</td><td>0.596</td><td>0.153</td><td>0.393</td></tr>\n",
              "\t<tr><th scope=row>2</th><td>Denmark    </td><td>Developed</td><td>7.600</td><td>1.383</td><td>1.573</td><td>0.996</td><td>0.592</td><td>0.252</td><td>0.410</td></tr>\n",
              "\t<tr><th scope=row>3</th><td>Norway     </td><td>Developed</td><td>7.554</td><td>1.488</td><td>1.582</td><td>1.028</td><td>0.603</td><td>0.271</td><td>0.341</td></tr>\n",
              "\t<tr><th scope=row>4</th><td>Iceland    </td><td>Developed</td><td>7.494</td><td>1.380</td><td>1.624</td><td>1.026</td><td>0.591</td><td>0.354</td><td>0.118</td></tr>\n",
              "\t<tr><th scope=row>5</th><td>Netherlands</td><td>Developed</td><td>7.488</td><td>1.396</td><td>1.522</td><td>0.999</td><td>0.557</td><td>0.322</td><td>0.298</td></tr>\n",
              "\t<tr><th scope=row>6</th><td>Switzerland</td><td>Developed</td><td>7.480</td><td>1.452</td><td>1.526</td><td>1.052</td><td>0.572</td><td>0.263</td><td>0.343</td></tr>\n",
              "</tbody>\n",
              "</table>\n"
            ],
            "text/markdown": "\nA data.frame: 6 × 9\n\n| <!--/--> | country &lt;chr&gt; | category &lt;chr&gt; | score &lt;dbl&gt; | gdp_per_capita &lt;dbl&gt; | social_support &lt;dbl&gt; | healthy_life_expectancy &lt;dbl&gt; | freedom_to_make_life_choices &lt;dbl&gt; | generosity &lt;dbl&gt; | perceptions_of_corruption &lt;dbl&gt; |\n|---|---|---|---|---|---|---|---|---|---|\n| 1 | Finland     | Developed | 7.769 | 1.340 | 1.587 | 0.986 | 0.596 | 0.153 | 0.393 |\n| 2 | Denmark     | Developed | 7.600 | 1.383 | 1.573 | 0.996 | 0.592 | 0.252 | 0.410 |\n| 3 | Norway      | Developed | 7.554 | 1.488 | 1.582 | 1.028 | 0.603 | 0.271 | 0.341 |\n| 4 | Iceland     | Developed | 7.494 | 1.380 | 1.624 | 1.026 | 0.591 | 0.354 | 0.118 |\n| 5 | Netherlands | Developed | 7.488 | 1.396 | 1.522 | 0.999 | 0.557 | 0.322 | 0.298 |\n| 6 | Switzerland | Developed | 7.480 | 1.452 | 1.526 | 1.052 | 0.572 | 0.263 | 0.343 |\n\n",
            "text/latex": "A data.frame: 6 × 9\n\\begin{tabular}{r|lllllllll}\n  & country & category & score & gdp\\_per\\_capita & social\\_support & healthy\\_life\\_expectancy & freedom\\_to\\_make\\_life\\_choices & generosity & perceptions\\_of\\_corruption\\\\\n  & <chr> & <chr> & <dbl> & <dbl> & <dbl> & <dbl> & <dbl> & <dbl> & <dbl>\\\\\n\\hline\n\t1 & Finland     & Developed & 7.769 & 1.340 & 1.587 & 0.986 & 0.596 & 0.153 & 0.393\\\\\n\t2 & Denmark     & Developed & 7.600 & 1.383 & 1.573 & 0.996 & 0.592 & 0.252 & 0.410\\\\\n\t3 & Norway      & Developed & 7.554 & 1.488 & 1.582 & 1.028 & 0.603 & 0.271 & 0.341\\\\\n\t4 & Iceland     & Developed & 7.494 & 1.380 & 1.624 & 1.026 & 0.591 & 0.354 & 0.118\\\\\n\t5 & Netherlands & Developed & 7.488 & 1.396 & 1.522 & 0.999 & 0.557 & 0.322 & 0.298\\\\\n\t6 & Switzerland & Developed & 7.480 & 1.452 & 1.526 & 1.052 & 0.572 & 0.263 & 0.343\\\\\n\\end{tabular}\n",
            "text/plain": [
              "  country     category  score gdp_per_capita social_support\n",
              "1 Finland     Developed 7.769 1.340          1.587         \n",
              "2 Denmark     Developed 7.600 1.383          1.573         \n",
              "3 Norway      Developed 7.554 1.488          1.582         \n",
              "4 Iceland     Developed 7.494 1.380          1.624         \n",
              "5 Netherlands Developed 7.488 1.396          1.522         \n",
              "6 Switzerland Developed 7.480 1.452          1.526         \n",
              "  healthy_life_expectancy freedom_to_make_life_choices generosity\n",
              "1 0.986                   0.596                        0.153     \n",
              "2 0.996                   0.592                        0.252     \n",
              "3 1.028                   0.603                        0.271     \n",
              "4 1.026                   0.591                        0.354     \n",
              "5 0.999                   0.557                        0.322     \n",
              "6 1.052                   0.572                        0.263     \n",
              "  perceptions_of_corruption\n",
              "1 0.393                    \n",
              "2 0.410                    \n",
              "3 0.341                    \n",
              "4 0.118                    \n",
              "5 0.298                    \n",
              "6 0.343                    "
            ]
          },
          "metadata": {}
        }
      ]
    },
    {
      "cell_type": "code",
      "source": [],
      "metadata": {
        "id": "YcBhwsULL0DT"
      },
      "execution_count": 2,
      "outputs": []
    }
  ]
}