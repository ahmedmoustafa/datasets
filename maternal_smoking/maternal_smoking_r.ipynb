{
  "cells": [
    {
      "cell_type": "markdown",
      "metadata": {
        "id": "view-in-github",
        "colab_type": "text"
      },
      "source": [
        "<a href=\"https://colab.research.google.com/github/ahmedmoustafa/datasets/blob/main/maternal_smoking/maternal_smoking_r.ipynb\" target=\"_parent\"><img src=\"https://colab.research.google.com/assets/colab-badge.svg\" alt=\"Open In Colab\"/></a>"
      ]
    },
    {
      "cell_type": "markdown",
      "metadata": {
        "id": "aBg1rOzmEkmp"
      },
      "source": [
        "# Maternal Smoking"
      ]
    },
    {
      "cell_type": "code",
      "execution_count": 1,
      "metadata": {
        "id": "xuhWjeg7EeWk",
        "colab": {
          "base_uri": "https://localhost:8080/"
        },
        "outputId": "4aabe146-5ff4-451c-bc8d-3b6858065e45"
      },
      "outputs": [
        {
          "output_type": "stream",
          "name": "stderr",
          "text": [
            "── \u001b[1mAttaching core tidyverse packages\u001b[22m ──────────────────────── tidyverse 2.0.0 ──\n",
            "\u001b[32m✔\u001b[39m \u001b[34mdplyr    \u001b[39m 1.1.4     \u001b[32m✔\u001b[39m \u001b[34mreadr    \u001b[39m 2.1.5\n",
            "\u001b[32m✔\u001b[39m \u001b[34mforcats  \u001b[39m 1.0.0     \u001b[32m✔\u001b[39m \u001b[34mstringr  \u001b[39m 1.5.1\n",
            "\u001b[32m✔\u001b[39m \u001b[34mggplot2  \u001b[39m 3.5.1     \u001b[32m✔\u001b[39m \u001b[34mtibble   \u001b[39m 3.2.1\n",
            "\u001b[32m✔\u001b[39m \u001b[34mlubridate\u001b[39m 1.9.3     \u001b[32m✔\u001b[39m \u001b[34mtidyr    \u001b[39m 1.3.1\n",
            "\u001b[32m✔\u001b[39m \u001b[34mpurrr    \u001b[39m 1.0.2     \n",
            "── \u001b[1mConflicts\u001b[22m ────────────────────────────────────────── tidyverse_conflicts() ──\n",
            "\u001b[31m✖\u001b[39m \u001b[34mdplyr\u001b[39m::\u001b[32mfilter()\u001b[39m masks \u001b[34mstats\u001b[39m::filter()\n",
            "\u001b[31m✖\u001b[39m \u001b[34mdplyr\u001b[39m::\u001b[32mlag()\u001b[39m    masks \u001b[34mstats\u001b[39m::lag()\n",
            "\u001b[36mℹ\u001b[39m Use the conflicted package (\u001b[3m\u001b[34m<http://conflicted.r-lib.org/>\u001b[39m\u001b[23m) to force all conflicts to become errors\n"
          ]
        }
      ],
      "source": [
        "library(tidyverse)"
      ]
    },
    {
      "cell_type": "markdown",
      "metadata": {
        "id": "ah8ZcK4Mcvgu"
      },
      "source": [
        "Now, we can easily access the data from an online [`TSV`](https://en.wikipedia.org/wiki/Tab-separated_values) file using [read_tsv()](https://readr.tidyverse.org/reference/read_delim.html) function. Before moving forward, you may want to open and examine the data file at this link: [https://raw.githubusercontent.com/ahmedmoustafa/datasets/refs/heads/main/maternal_smoking/smoking.tsv](https://raw.githubusercontent.com/ahmedmoustafa/datasets/refs/heads/main/maternal_smoking/smoking.tsv). This will help you gain a better understanding of the data's structure and content."
      ]
    },
    {
      "cell_type": "code",
      "execution_count": 2,
      "metadata": {
        "colab": {
          "base_uri": "https://localhost:8080/"
        },
        "id": "lwP2QUWcE-qG",
        "outputId": "9a2d12d9-9992-4b2b-fa4b-909abf5209cd"
      },
      "outputs": [
        {
          "output_type": "stream",
          "name": "stderr",
          "text": [
            "\u001b[1mRows: \u001b[22m\u001b[34m610\u001b[39m \u001b[1mColumns: \u001b[22m\u001b[34m20\u001b[39m\n",
            "\u001b[36m──\u001b[39m \u001b[1mColumn specification\u001b[22m \u001b[36m────────────────────────────────────────────────────────\u001b[39m\n",
            "\u001b[1mDelimiter:\u001b[22m \"\\t\"\n",
            "\u001b[31mchr\u001b[39m  (3): mom.race, dad.race, smoke\n",
            "\u001b[32mdbl\u001b[39m (17): id, date, gestation, weight, parity, mom.age, mom.edu, mom.height,...\n",
            "\n",
            "\u001b[36mℹ\u001b[39m Use `spec()` to retrieve the full column specification for this data.\n",
            "\u001b[36mℹ\u001b[39m Specify the column types or set `show_col_types = FALSE` to quiet this message.\n"
          ]
        },
        {
          "output_type": "stream",
          "name": "stdout",
          "text": [
            "Rows: 610\n",
            "Columns: 20\n",
            "$ id         \u001b[3m\u001b[90m<dbl>\u001b[39m\u001b[23m 15, 20, 100, 129, 142, 171, 195, 217, 240, 274, 291, 294, 3…\n",
            "$ date       \u001b[3m\u001b[90m<dbl>\u001b[39m\u001b[23m 1411, 1499, 1673, 1562, 1408, 1593, 1501, 1605, 1647, 1554,…\n",
            "$ gestation  \u001b[3m\u001b[90m<dbl>\u001b[39m\u001b[23m 284, 282, 286, 245, 289, 282, 285, 261, 288, 274, 287, 276,…\n",
            "$ weight     \u001b[3m\u001b[90m<dbl>\u001b[39m\u001b[23m 120, 113, 136, 132, 120, 144, 115, 115, 119, 115, 137, 122,…\n",
            "$ parity     \u001b[3m\u001b[90m<dbl>\u001b[39m\u001b[23m 1, 2, 4, 2, 3, 4, 4, 3, 3, 1, 1, 6, 1, 3, 2, 3, 2, 1, 1, 2,…\n",
            "$ mom.race   \u001b[3m\u001b[90m<chr>\u001b[39m\u001b[23m \"asian\", \"white\", \"white\", \"black\", \"white\", \"white\", \"blac…\n",
            "$ mom.age    \u001b[3m\u001b[90m<dbl>\u001b[39m\u001b[23m 27, 33, 25, 23, 25, 32, 38, 33, 43, 27, 25, 30, 26, 32, 28,…\n",
            "$ mom.edu    \u001b[3m\u001b[90m<dbl>\u001b[39m\u001b[23m 5, 5, 2, 1, 4, 2, 2, 2, 2, 4, 4, 1, 0, 2, 5, 1, 2, 2, 5, 2,…\n",
            "$ mom.height \u001b[3m\u001b[90m<dbl>\u001b[39m\u001b[23m 62, 64, 62, 65, 62, 64, 63, 60, 66, 67, 66, 68, 58, 65, 66,…\n",
            "$ mom.weight \u001b[3m\u001b[90m<dbl>\u001b[39m\u001b[23m 100, 135, 93, 140, 125, 124, 130, 125, 142, 175, 145, 182, …\n",
            "$ dad.race   \u001b[3m\u001b[90m<chr>\u001b[39m\u001b[23m \"asian\", \"white\", \"white\", \"black\", \"white\", \"white\", \"blac…\n",
            "$ dad.age    \u001b[3m\u001b[90m<dbl>\u001b[39m\u001b[23m 31, 38, 28, 23, 26, 36, 37, 33, 45, 26, 25, 38, 29, 29, 31,…\n",
            "$ dad.edu    \u001b[3m\u001b[90m<dbl>\u001b[39m\u001b[23m 5, 5, 2, 4, 1, 1, 0, 2, 2, 4, 5, 1, 2, 5, 5, 2, 2, 2, 5, 1,…\n",
            "$ dad.height \u001b[3m\u001b[90m<dbl>\u001b[39m\u001b[23m 65, 70, 64, 71, 70, 74, 71, 70, 73, 73, 70, 73, 68, 67, 70,…\n",
            "$ dad.weight \u001b[3m\u001b[90m<dbl>\u001b[39m\u001b[23m 110, 148, 130, 192, 180, 185, 205, 140, 195, 180, 150, 196,…\n",
            "$ marital    \u001b[3m\u001b[90m<dbl>\u001b[39m\u001b[23m 1, 1, 1, 1, 0, 1, 1, 1, 1, 1, 1, 1, 1, 1, 1, 1, 1, 1, 1, 1,…\n",
            "$ income     \u001b[3m\u001b[90m<dbl>\u001b[39m\u001b[23m 1, 4, 4, 2, 2, 2, 1, 4, 5, 3, 2, 2, 2, 1, 6, 4, 7, 2, 4, 1,…\n",
            "$ smoke      \u001b[3m\u001b[90m<chr>\u001b[39m\u001b[23m \"never\", \"never\", \"until_pregnancy\", \"never\", \"never\", \"now…\n",
            "$ quit.time  \u001b[3m\u001b[90m<dbl>\u001b[39m\u001b[23m 0, 0, 2, 0, 0, 1, 0, 1, 1, 1, 2, 0, 2, 0, 1, 2, 4, 0, 4, 1,…\n",
            "$ cigs       \u001b[3m\u001b[90m<dbl>\u001b[39m\u001b[23m 0, 0, 2, 0, 0, 1, 0, 5, 6, 9, 5, 0, 1, 0, 5, 1, 1, 0, 5, 5,…\n"
          ]
        }
      ],
      "source": [
        " # Read and load the tsv data file into a dataframe\n",
        "df = read_tsv(\"https://raw.githubusercontent.com/ahmedmoustafa/datasets/refs/heads/main/maternal_smoking/smoking.tsv\")\n",
        "glimpse(df)"
      ]
    },
    {
      "cell_type": "code",
      "source": [
        "head(df)"
      ],
      "metadata": {
        "colab": {
          "base_uri": "https://localhost:8080/",
          "height": 306
        },
        "id": "hIV246cqlm6u",
        "outputId": "e4ae496b-bd7a-4c42-ca87-b1e785b2d40e"
      },
      "execution_count": 3,
      "outputs": [
        {
          "output_type": "display_data",
          "data": {
            "text/html": [
              "<table class=\"dataframe\">\n",
              "<caption>A tibble: 6 × 20</caption>\n",
              "<thead>\n",
              "\t<tr><th scope=col>id</th><th scope=col>date</th><th scope=col>gestation</th><th scope=col>weight</th><th scope=col>parity</th><th scope=col>mom.race</th><th scope=col>mom.age</th><th scope=col>mom.edu</th><th scope=col>mom.height</th><th scope=col>mom.weight</th><th scope=col>dad.race</th><th scope=col>dad.age</th><th scope=col>dad.edu</th><th scope=col>dad.height</th><th scope=col>dad.weight</th><th scope=col>marital</th><th scope=col>income</th><th scope=col>smoke</th><th scope=col>quit.time</th><th scope=col>cigs</th></tr>\n",
              "\t<tr><th scope=col>&lt;dbl&gt;</th><th scope=col>&lt;dbl&gt;</th><th scope=col>&lt;dbl&gt;</th><th scope=col>&lt;dbl&gt;</th><th scope=col>&lt;dbl&gt;</th><th scope=col>&lt;chr&gt;</th><th scope=col>&lt;dbl&gt;</th><th scope=col>&lt;dbl&gt;</th><th scope=col>&lt;dbl&gt;</th><th scope=col>&lt;dbl&gt;</th><th scope=col>&lt;chr&gt;</th><th scope=col>&lt;dbl&gt;</th><th scope=col>&lt;dbl&gt;</th><th scope=col>&lt;dbl&gt;</th><th scope=col>&lt;dbl&gt;</th><th scope=col>&lt;dbl&gt;</th><th scope=col>&lt;dbl&gt;</th><th scope=col>&lt;chr&gt;</th><th scope=col>&lt;dbl&gt;</th><th scope=col>&lt;dbl&gt;</th></tr>\n",
              "</thead>\n",
              "<tbody>\n",
              "\t<tr><td> 15</td><td>1411</td><td>284</td><td>120</td><td>1</td><td>asian</td><td>27</td><td>5</td><td>62</td><td>100</td><td>asian</td><td>31</td><td>5</td><td>65</td><td>110</td><td>1</td><td>1</td><td>never          </td><td>0</td><td>0</td></tr>\n",
              "\t<tr><td> 20</td><td>1499</td><td>282</td><td>113</td><td>2</td><td>white</td><td>33</td><td>5</td><td>64</td><td>135</td><td>white</td><td>38</td><td>5</td><td>70</td><td>148</td><td>1</td><td>4</td><td>never          </td><td>0</td><td>0</td></tr>\n",
              "\t<tr><td>100</td><td>1673</td><td>286</td><td>136</td><td>4</td><td>white</td><td>25</td><td>2</td><td>62</td><td> 93</td><td>white</td><td>28</td><td>2</td><td>64</td><td>130</td><td>1</td><td>4</td><td>until_pregnancy</td><td>2</td><td>2</td></tr>\n",
              "\t<tr><td>129</td><td>1562</td><td>245</td><td>132</td><td>2</td><td>black</td><td>23</td><td>1</td><td>65</td><td>140</td><td>black</td><td>23</td><td>4</td><td>71</td><td>192</td><td>1</td><td>2</td><td>never          </td><td>0</td><td>0</td></tr>\n",
              "\t<tr><td>142</td><td>1408</td><td>289</td><td>120</td><td>3</td><td>white</td><td>25</td><td>4</td><td>62</td><td>125</td><td>white</td><td>26</td><td>1</td><td>70</td><td>180</td><td>0</td><td>2</td><td>never          </td><td>0</td><td>0</td></tr>\n",
              "\t<tr><td>171</td><td>1593</td><td>282</td><td>144</td><td>4</td><td>white</td><td>32</td><td>2</td><td>64</td><td>124</td><td>white</td><td>36</td><td>1</td><td>74</td><td>185</td><td>1</td><td>2</td><td>now            </td><td>1</td><td>1</td></tr>\n",
              "</tbody>\n",
              "</table>\n"
            ],
            "text/markdown": "\nA tibble: 6 × 20\n\n| id &lt;dbl&gt; | date &lt;dbl&gt; | gestation &lt;dbl&gt; | weight &lt;dbl&gt; | parity &lt;dbl&gt; | mom.race &lt;chr&gt; | mom.age &lt;dbl&gt; | mom.edu &lt;dbl&gt; | mom.height &lt;dbl&gt; | mom.weight &lt;dbl&gt; | dad.race &lt;chr&gt; | dad.age &lt;dbl&gt; | dad.edu &lt;dbl&gt; | dad.height &lt;dbl&gt; | dad.weight &lt;dbl&gt; | marital &lt;dbl&gt; | income &lt;dbl&gt; | smoke &lt;chr&gt; | quit.time &lt;dbl&gt; | cigs &lt;dbl&gt; |\n|---|---|---|---|---|---|---|---|---|---|---|---|---|---|---|---|---|---|---|---|\n|  15 | 1411 | 284 | 120 | 1 | asian | 27 | 5 | 62 | 100 | asian | 31 | 5 | 65 | 110 | 1 | 1 | never           | 0 | 0 |\n|  20 | 1499 | 282 | 113 | 2 | white | 33 | 5 | 64 | 135 | white | 38 | 5 | 70 | 148 | 1 | 4 | never           | 0 | 0 |\n| 100 | 1673 | 286 | 136 | 4 | white | 25 | 2 | 62 |  93 | white | 28 | 2 | 64 | 130 | 1 | 4 | until_pregnancy | 2 | 2 |\n| 129 | 1562 | 245 | 132 | 2 | black | 23 | 1 | 65 | 140 | black | 23 | 4 | 71 | 192 | 1 | 2 | never           | 0 | 0 |\n| 142 | 1408 | 289 | 120 | 3 | white | 25 | 4 | 62 | 125 | white | 26 | 1 | 70 | 180 | 0 | 2 | never           | 0 | 0 |\n| 171 | 1593 | 282 | 144 | 4 | white | 32 | 2 | 64 | 124 | white | 36 | 1 | 74 | 185 | 1 | 2 | now             | 1 | 1 |\n\n",
            "text/latex": "A tibble: 6 × 20\n\\begin{tabular}{llllllllllllllllllll}\n id & date & gestation & weight & parity & mom.race & mom.age & mom.edu & mom.height & mom.weight & dad.race & dad.age & dad.edu & dad.height & dad.weight & marital & income & smoke & quit.time & cigs\\\\\n <dbl> & <dbl> & <dbl> & <dbl> & <dbl> & <chr> & <dbl> & <dbl> & <dbl> & <dbl> & <chr> & <dbl> & <dbl> & <dbl> & <dbl> & <dbl> & <dbl> & <chr> & <dbl> & <dbl>\\\\\n\\hline\n\t  15 & 1411 & 284 & 120 & 1 & asian & 27 & 5 & 62 & 100 & asian & 31 & 5 & 65 & 110 & 1 & 1 & never           & 0 & 0\\\\\n\t  20 & 1499 & 282 & 113 & 2 & white & 33 & 5 & 64 & 135 & white & 38 & 5 & 70 & 148 & 1 & 4 & never           & 0 & 0\\\\\n\t 100 & 1673 & 286 & 136 & 4 & white & 25 & 2 & 62 &  93 & white & 28 & 2 & 64 & 130 & 1 & 4 & until\\_pregnancy & 2 & 2\\\\\n\t 129 & 1562 & 245 & 132 & 2 & black & 23 & 1 & 65 & 140 & black & 23 & 4 & 71 & 192 & 1 & 2 & never           & 0 & 0\\\\\n\t 142 & 1408 & 289 & 120 & 3 & white & 25 & 4 & 62 & 125 & white & 26 & 1 & 70 & 180 & 0 & 2 & never           & 0 & 0\\\\\n\t 171 & 1593 & 282 & 144 & 4 & white & 32 & 2 & 64 & 124 & white & 36 & 1 & 74 & 185 & 1 & 2 & now             & 1 & 1\\\\\n\\end{tabular}\n",
            "text/plain": [
              "  id  date gestation weight parity mom.race mom.age mom.edu mom.height\n",
              "1  15 1411 284       120    1      asian    27      5       62        \n",
              "2  20 1499 282       113    2      white    33      5       64        \n",
              "3 100 1673 286       136    4      white    25      2       62        \n",
              "4 129 1562 245       132    2      black    23      1       65        \n",
              "5 142 1408 289       120    3      white    25      4       62        \n",
              "6 171 1593 282       144    4      white    32      2       64        \n",
              "  mom.weight dad.race dad.age dad.edu dad.height dad.weight marital income\n",
              "1 100        asian    31      5       65         110        1       1     \n",
              "2 135        white    38      5       70         148        1       4     \n",
              "3  93        white    28      2       64         130        1       4     \n",
              "4 140        black    23      4       71         192        1       2     \n",
              "5 125        white    26      1       70         180        0       2     \n",
              "6 124        white    36      1       74         185        1       2     \n",
              "  smoke           quit.time cigs\n",
              "1 never           0         0   \n",
              "2 never           0         0   \n",
              "3 until_pregnancy 2         2   \n",
              "4 never           0         0   \n",
              "5 never           0         0   \n",
              "6 now             1         1   "
            ]
          },
          "metadata": {}
        }
      ]
    },
    {
      "cell_type": "markdown",
      "metadata": {
        "id": "LgJsKCFJcvgx"
      },
      "source": [
        "---"
      ]
    },
    {
      "cell_type": "markdown",
      "source": [
        "## Q1. How many unique entries are in the following categorical column (`mom.race` and `smoke`)?"
      ],
      "metadata": {
        "id": "2b-qTMJ0jpwG"
      }
    },
    {
      "cell_type": "code",
      "source": [],
      "metadata": {
        "id": "hCl-ezz-jsV0"
      },
      "execution_count": 4,
      "outputs": []
    },
    {
      "cell_type": "markdown",
      "source": [
        "---"
      ],
      "metadata": {
        "id": "CNMa_jCYjt7z"
      }
    },
    {
      "cell_type": "markdown",
      "source": [
        "## Q2. What are the average ages of mothers and fathers in the dataset?"
      ],
      "metadata": {
        "id": "w1bkcS-3jvaN"
      }
    },
    {
      "cell_type": "code",
      "source": [],
      "metadata": {
        "id": "fBJFH7WWjzC8"
      },
      "execution_count": 5,
      "outputs": []
    },
    {
      "cell_type": "markdown",
      "source": [
        "---"
      ],
      "metadata": {
        "id": "uPdBTJymjzjJ"
      }
    },
    {
      "cell_type": "markdown",
      "source": [
        "## Q3. What percentage of mothers never smoked, smoked until pregnancy, or smoked throughout?"
      ],
      "metadata": {
        "id": "xK978R0Yj00E"
      }
    },
    {
      "cell_type": "code",
      "source": [],
      "metadata": {
        "id": "m2npeY_Ej5Fa"
      },
      "execution_count": 6,
      "outputs": []
    },
    {
      "cell_type": "markdown",
      "source": [
        "---"
      ],
      "metadata": {
        "id": "X4Vk7HlRj5YA"
      }
    },
    {
      "cell_type": "markdown",
      "source": [
        "## Q4. What is the average number of cigarettes smoked per day among mothers who smoked throughout their pregnancy?"
      ],
      "metadata": {
        "id": "YDPhSfGmj9bk"
      }
    },
    {
      "cell_type": "code",
      "source": [],
      "metadata": {
        "id": "9CLFIY41kAVt"
      },
      "execution_count": 7,
      "outputs": []
    },
    {
      "cell_type": "markdown",
      "source": [
        "---"
      ],
      "metadata": {
        "id": "Xyc8pFEfkBBj"
      }
    },
    {
      "cell_type": "markdown",
      "source": [
        "## Q5. Show the distribution of newborns' weights."
      ],
      "metadata": {
        "id": "wLqHVqUPkElt"
      }
    },
    {
      "cell_type": "code",
      "source": [],
      "metadata": {
        "id": "88YeTu4xkGu9"
      },
      "execution_count": 8,
      "outputs": []
    },
    {
      "cell_type": "markdown",
      "source": [
        "---"
      ],
      "metadata": {
        "id": "Jg5ugaEJkHVj"
      }
    },
    {
      "cell_type": "markdown",
      "metadata": {
        "id": "YEvzA3RdX9BD"
      },
      "source": [
        "## Q6. Does the mom's smoking pattern affect the newborn birth weight?"
      ]
    },
    {
      "cell_type": "code",
      "source": [],
      "metadata": {
        "id": "OP4pGVZHepCw"
      },
      "execution_count": 9,
      "outputs": []
    },
    {
      "cell_type": "markdown",
      "metadata": {
        "id": "TvshlzSBcvgz"
      },
      "source": [
        "---"
      ]
    },
    {
      "cell_type": "markdown",
      "metadata": {
        "id": "ES5mZnyhYQ-5"
      },
      "source": [
        "## Q7. Does the mom’s race affect the newborn birth weight?\n"
      ]
    },
    {
      "cell_type": "code",
      "source": [],
      "metadata": {
        "id": "ouXGXQjLepcS"
      },
      "execution_count": 10,
      "outputs": []
    },
    {
      "cell_type": "markdown",
      "metadata": {
        "id": "6fzHK2CQcvg1"
      },
      "source": [
        "---"
      ]
    },
    {
      "cell_type": "markdown",
      "metadata": {
        "id": "3GVJ6vVTYai-"
      },
      "source": [
        "## Q8. Is there a correlation between the mom’s weight and the baby’s weight?"
      ]
    },
    {
      "cell_type": "code",
      "source": [],
      "metadata": {
        "id": "-xxmrfxieqA5"
      },
      "execution_count": 11,
      "outputs": []
    },
    {
      "cell_type": "markdown",
      "metadata": {
        "id": "aGao5ffRcvg2"
      },
      "source": [
        "---"
      ]
    },
    {
      "cell_type": "markdown",
      "source": [
        "## Q9. Is there a correlation between the dad’s weight and the baby’s weight?"
      ],
      "metadata": {
        "id": "EXGpoZMIeNpc"
      }
    },
    {
      "cell_type": "code",
      "source": [],
      "metadata": {
        "id": "0h4KmSMSeoNN"
      },
      "execution_count": 12,
      "outputs": []
    },
    {
      "cell_type": "markdown",
      "source": [
        "---"
      ],
      "metadata": {
        "id": "MyTY34VMemsG"
      }
    },
    {
      "cell_type": "markdown",
      "source": [
        "## Q10. From Q3 and Q4, which is a stronger correlation?"
      ],
      "metadata": {
        "id": "YdaS20ZIe2FP"
      }
    },
    {
      "cell_type": "code",
      "source": [],
      "metadata": {
        "id": "w_PuW3TDe4Le"
      },
      "execution_count": 13,
      "outputs": []
    },
    {
      "cell_type": "markdown",
      "source": [
        "---"
      ],
      "metadata": {
        "id": "3F2-DULNe4ZF"
      }
    },
    {
      "cell_type": "markdown",
      "source": [
        "## Q11. Is there a correlation between the mom’s weight and the dad’s weight?"
      ],
      "metadata": {
        "id": "IJ6zptE8e_lQ"
      }
    },
    {
      "cell_type": "code",
      "source": [],
      "metadata": {
        "id": "q4JeAAHofClY"
      },
      "execution_count": 14,
      "outputs": []
    },
    {
      "cell_type": "markdown",
      "source": [
        "---"
      ],
      "metadata": {
        "id": "gfxvchCPfC6n"
      }
    },
    {
      "cell_type": "markdown",
      "metadata": {
        "id": "E_lPDmPzjBQ1"
      },
      "source": [
        "## Q12. On average, does the mom’s weight change across the races?"
      ]
    },
    {
      "cell_type": "code",
      "source": [],
      "metadata": {
        "id": "clZhmh8aeqsc"
      },
      "execution_count": 15,
      "outputs": []
    },
    {
      "cell_type": "markdown",
      "metadata": {
        "id": "yMiJQ-dKcvg8"
      },
      "source": [
        "---"
      ]
    },
    {
      "cell_type": "markdown",
      "metadata": {
        "id": "HC-CTen2ys_V"
      },
      "source": [
        "## Q13. Does mom’s smoking pattern change with the mom’s education?"
      ]
    },
    {
      "cell_type": "code",
      "source": [],
      "metadata": {
        "id": "VTx1KDrIerLj"
      },
      "execution_count": 16,
      "outputs": []
    },
    {
      "cell_type": "markdown",
      "metadata": {
        "id": "YEMR10-lcvg-"
      },
      "source": [
        "---"
      ]
    },
    {
      "cell_type": "markdown",
      "metadata": {
        "id": "F0b6FIXnjHS4"
      },
      "source": [
        "## Q14. Does mom’s smoking pattern change with the family income?"
      ]
    },
    {
      "cell_type": "code",
      "source": [],
      "metadata": {
        "id": "T-YaDYPveriR"
      },
      "execution_count": 17,
      "outputs": []
    },
    {
      "cell_type": "markdown",
      "metadata": {
        "id": "3jQp5mZNcvg-"
      },
      "source": [
        "---"
      ]
    },
    {
      "cell_type": "markdown",
      "metadata": {
        "id": "O6T5rtvejLUx"
      },
      "source": [
        "## Q15. Is there a relationship between the mom’s race and the dad’s race?"
      ]
    },
    {
      "cell_type": "code",
      "source": [],
      "metadata": {
        "id": "bBWdojnoesl5"
      },
      "execution_count": 18,
      "outputs": []
    },
    {
      "cell_type": "markdown",
      "source": [
        "---"
      ],
      "metadata": {
        "id": "5j0ibvdtes8J"
      }
    }
  ],
  "metadata": {
    "colab": {
      "provenance": [],
      "include_colab_link": true
    },
    "kernelspec": {
      "display_name": "R",
      "name": "ir"
    },
    "language_info": {
      "name": "R"
    }
  },
  "nbformat": 4,
  "nbformat_minor": 0
}