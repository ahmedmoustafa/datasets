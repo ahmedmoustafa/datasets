{
  "nbformat": 4,
  "nbformat_minor": 0,
  "metadata": {
    "colab": {
      "provenance": [],
      "authorship_tag": "ABX9TyPH0LsoXsdprKcCsFMcKdjI",
      "include_colab_link": true
    },
    "kernelspec": {
      "name": "ir",
      "display_name": "R"
    },
    "language_info": {
      "name": "R"
    }
  },
  "cells": [
    {
      "cell_type": "markdown",
      "metadata": {
        "id": "view-in-github",
        "colab_type": "text"
      },
      "source": [
        "<a href=\"https://colab.research.google.com/github/ahmedmoustafa/datasets/blob/main/evaluation/evaluation.ipynb\" target=\"_parent\"><img src=\"https://colab.research.google.com/assets/colab-badge.svg\" alt=\"Open In Colab\"/></a>"
      ]
    },
    {
      "cell_type": "markdown",
      "source": [
        "# Course Evaluation Dataset\n",
        "\n",
        "## Sept 21, 2023"
      ],
      "metadata": {
        "id": "-HpfsilTXfzt"
      }
    },
    {
      "cell_type": "code",
      "execution_count": 1,
      "metadata": {
        "colab": {
          "base_uri": "https://localhost:8080/",
          "height": 286
        },
        "id": "pGREkHb6Xb9w",
        "outputId": "bd10590d-4c1e-4e7a-dddb-7f6b9d6cc128"
      },
      "outputs": [
        {
          "output_type": "display_data",
          "data": {
            "text/html": [
              "<table class=\"dataframe\">\n",
              "<caption>A data.frame: 6 × 5</caption>\n",
              "<thead>\n",
              "\t<tr><th></th><th scope=col>Major</th><th scope=col>Course</th><th scope=col>Score</th><th scope=col>Grade</th><th scope=col>Evaluation</th></tr>\n",
              "\t<tr><th></th><th scope=col>&lt;chr&gt;</th><th scope=col>&lt;chr&gt;</th><th scope=col>&lt;dbl&gt;</th><th scope=col>&lt;chr&gt;</th><th scope=col>&lt;int&gt;</th></tr>\n",
              "</thead>\n",
              "<tbody>\n",
              "\t<tr><th scope=row>1</th><td>CS</td><td>CS_101</td><td>46.10</td><td>F</td><td>4</td></tr>\n",
              "\t<tr><th scope=row>2</th><td>CS</td><td>CS_102</td><td>81.71</td><td>B</td><td>8</td></tr>\n",
              "\t<tr><th scope=row>3</th><td>CS</td><td>CS_103</td><td>68.13</td><td>D</td><td>9</td></tr>\n",
              "\t<tr><th scope=row>4</th><td>CS</td><td>CS_101</td><td>62.55</td><td>D</td><td>6</td></tr>\n",
              "\t<tr><th scope=row>5</th><td>CS</td><td>CS_102</td><td>76.94</td><td>C</td><td>7</td></tr>\n",
              "\t<tr><th scope=row>6</th><td>CS</td><td>CS_103</td><td>72.96</td><td>C</td><td>8</td></tr>\n",
              "</tbody>\n",
              "</table>\n"
            ],
            "text/markdown": "\nA data.frame: 6 × 5\n\n| <!--/--> | Major &lt;chr&gt; | Course &lt;chr&gt; | Score &lt;dbl&gt; | Grade &lt;chr&gt; | Evaluation &lt;int&gt; |\n|---|---|---|---|---|---|\n| 1 | CS | CS_101 | 46.10 | F | 4 |\n| 2 | CS | CS_102 | 81.71 | B | 8 |\n| 3 | CS | CS_103 | 68.13 | D | 9 |\n| 4 | CS | CS_101 | 62.55 | D | 6 |\n| 5 | CS | CS_102 | 76.94 | C | 7 |\n| 6 | CS | CS_103 | 72.96 | C | 8 |\n\n",
            "text/latex": "A data.frame: 6 × 5\n\\begin{tabular}{r|lllll}\n  & Major & Course & Score & Grade & Evaluation\\\\\n  & <chr> & <chr> & <dbl> & <chr> & <int>\\\\\n\\hline\n\t1 & CS & CS\\_101 & 46.10 & F & 4\\\\\n\t2 & CS & CS\\_102 & 81.71 & B & 8\\\\\n\t3 & CS & CS\\_103 & 68.13 & D & 9\\\\\n\t4 & CS & CS\\_101 & 62.55 & D & 6\\\\\n\t5 & CS & CS\\_102 & 76.94 & C & 7\\\\\n\t6 & CS & CS\\_103 & 72.96 & C & 8\\\\\n\\end{tabular}\n",
            "text/plain": [
              "  Major Course Score Grade Evaluation\n",
              "1 CS    CS_101 46.10 F     4         \n",
              "2 CS    CS_102 81.71 B     8         \n",
              "3 CS    CS_103 68.13 D     9         \n",
              "4 CS    CS_101 62.55 D     6         \n",
              "5 CS    CS_102 76.94 C     7         \n",
              "6 CS    CS_103 72.96 C     8         "
            ]
          },
          "metadata": {}
        }
      ],
      "source": [
        "df = read.csv (\"https://raw.githubusercontent.com/ahmedmoustafa/datasets/main/evaluation/evaluation.csv\")\n",
        "head(df)"
      ]
    },
    {
      "cell_type": "code",
      "source": [],
      "metadata": {
        "id": "EuvqdxhJXxXb"
      },
      "execution_count": 2,
      "outputs": []
    }
  ]
}